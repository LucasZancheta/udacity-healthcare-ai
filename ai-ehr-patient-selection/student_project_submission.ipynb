{
 "cells": [
  {
   "cell_type": "markdown",
   "metadata": {},
   "source": [
    "# Overview"
   ]
  },
  {
   "cell_type": "markdown",
   "metadata": {},
   "source": [
    "1. Project Instructions & Prerequisites\n",
    "2. Learning Objectives\n",
    "3. Data Preparation\n",
    "4. Create Categorical Features with TF Feature Columns\n",
    "5. Create Continuous/Numerical Features with TF Feature Columns\n",
    "6. Build Deep Learning Regression Model with Sequential API and TF Probability Layers\n",
    "7. Evaluating Potential Model Biases with Aequitas Toolkit\n"
   ]
  },
  {
   "cell_type": "markdown",
   "metadata": {},
   "source": [
    "#  1. Project Instructions & Prerequisites"
   ]
  },
  {
   "cell_type": "markdown",
   "metadata": {},
   "source": [
    "## Project Instructions"
   ]
  },
  {
   "cell_type": "markdown",
   "metadata": {},
   "source": [
    "**Context**: EHR data is becoming a key source of real-world evidence (RWE) for the pharmaceutical industry and regulators to [make decisions on clinical trials](https://www.fda.gov/news-events/speeches-fda-officials/breaking-down-barriers-between-clinical-trials-and-clinical-care-incorporating-real-world-evidence). You are a data scientist for an exciting unicorn healthcare startup that has created a groundbreaking diabetes drug that is ready for clinical trial testing. It is a very unique and sensitive drug that requires administering the drug over at least 5-7 days of time in the hospital with frequent monitoring/testing and patient medication adherence training with a mobile application. You have been provided a patient dataset from a client partner and are tasked with building a predictive model that can identify which type of patients the company should focus their efforts testing this drug on. Target patients are people that are likely to be in the hospital for this duration of time and will not incur significant additional costs for administering this drug to the patient and monitoring.  \n",
    "\n",
    "In order to achieve your goal you must build a regression model that can predict the estimated hospitalization time for a patient and use this to select/filter patients for your study.\n"
   ]
  },
  {
   "cell_type": "markdown",
   "metadata": {},
   "source": [
    "**Expected Hospitalization Time Regression Model:** Utilizing a synthetic dataset(denormalized at the line level augmentation) built off of the UCI Diabetes readmission dataset, students will build a regression model that predicts the expected days of hospitalization time and then convert this to a binary prediction of whether to include or exclude that patient from the clinical trial.\n",
    "\n",
    "This project will demonstrate the importance of building the right data representation at the encounter level, with appropriate filtering and preprocessing/feature engineering of key medical code sets. This project will also require students to analyze and interpret their model for biases across key demographic groups. \n",
    "\n",
    "Please see the project rubric online for more details on the areas your project will be evaluated."
   ]
  },
  {
   "cell_type": "markdown",
   "metadata": {},
   "source": [
    "### Dataset"
   ]
  },
  {
   "cell_type": "markdown",
   "metadata": {},
   "source": [
    "Due to healthcare PHI regulations (HIPAA, HITECH), there are limited number of publicly available datasets and some datasets require training and approval. So, for the purpose of this exercise, we are using a dataset from UC Irvine(https://archive.ics.uci.edu/ml/datasets/Diabetes+130-US+hospitals+for+years+1999-2008) that has been modified for this course. Please note that it is limited in its representation of some key features such as diagnosis codes which are usually an unordered list in 835s/837s (the HL7 standard interchange formats used for claims and remits)."
   ]
  },
  {
   "cell_type": "markdown",
   "metadata": {},
   "source": [
    "**Data Schema**\n",
    "The dataset reference information can be https://github.com/udacity/nd320-c1-emr-data-starter/tree/master/data_schema_references/. There are two CSVs that provide more details on the fields and some of the mapped values."
   ]
  },
  {
   "cell_type": "markdown",
   "metadata": {},
   "source": [
    "## Project Submission "
   ]
  },
  {
   "cell_type": "markdown",
   "metadata": {},
   "source": [
    "When submitting this project, make sure to run all the cells before saving the notebook. Save the notebook file as \"student_project_submission.ipynb\" and save another copy as an HTML file by clicking \"File\" -> \"Download as..\"->\"html\". Include the \"utils.py\" and \"student_utils.py\" files in your submission. The student_utils.py should be where you put most of your code that you write and the summary and text explanations should be written inline in the notebook. Once you download these files, compress them into one zip file for submission."
   ]
  },
  {
   "cell_type": "markdown",
   "metadata": {},
   "source": [
    "## Prerequisites "
   ]
  },
  {
   "cell_type": "markdown",
   "metadata": {},
   "source": [
    "- Intermediate level knowledge of Python\n",
    "- Basic knowledge of probability and statistics\n",
    "- Basic knowledge of machine learning concepts\n",
    "- Installation of Tensorflow 2.0 and other dependencies(conda environment.yml or virtualenv requirements.txt file provided)"
   ]
  },
  {
   "cell_type": "markdown",
   "metadata": {},
   "source": [
    "## Environment Setup"
   ]
  },
  {
   "cell_type": "markdown",
   "metadata": {},
   "source": [
    "For step by step instructions on creating your environment, please go to https://github.com/udacity/nd320-c1-emr-data-starter/blob/master/README.md."
   ]
  },
  {
   "cell_type": "markdown",
   "metadata": {},
   "source": [
    "# 2.  Learning Objectives"
   ]
  },
  {
   "cell_type": "markdown",
   "metadata": {},
   "source": [
    "By the end of the project, you will be able to \n",
    "   - Use the Tensorflow Dataset API to scalably extract, transform, and load datasets and build datasets aggregated at the line, encounter, and patient data levels(longitudinal)\n",
    "   - Analyze EHR datasets to check for common issues (data leakage, statistical properties, missing values, high cardinality) by performing exploratory data analysis.\n",
    "   - Create categorical features from Key Industry Code Sets (ICD, CPT, NDC) and reduce dimensionality for high cardinality features by using embeddings \n",
    "   - Create derived features(bucketing, cross-features, embeddings) utilizing Tensorflow feature columns on both continuous and categorical input features\n",
    "   - SWBAT use the Tensorflow Probability library to train a model that provides uncertainty range predictions that allow for risk adjustment/prioritization and triaging of predictions\n",
    "   - Analyze and determine biases for a model for key demographic groups by evaluating performance metrics across groups by using the Aequitas framework \n"
   ]
  },
  {
   "cell_type": "markdown",
   "metadata": {},
   "source": [
    "# 3. Data Preparation"
   ]
  },
  {
   "cell_type": "code",
   "execution_count": 95,
   "metadata": {},
   "outputs": [
    {
     "name": "stdout",
     "output_type": "stream",
     "text": [
      "The autoreload extension is already loaded. To reload it, use:\n",
      "  %reload_ext autoreload\n"
     ]
    }
   ],
   "source": [
    "# from __future__ import absolute_import, division, print_function, unicode_literals\n",
    "import os\n",
    "import numpy as np\n",
    "import tensorflow as tf\n",
    "from tensorflow.keras import layers\n",
    "import tensorflow_probability as tfp\n",
    "import matplotlib.pyplot as plt\n",
    "import pandas as pd\n",
    "import aequitas as ae\n",
    "# Put all of the helper functions in utils\n",
    "from utils import build_vocab_files, show_group_stats_viz, aggregate_dataset, preprocess_df, df_to_dataset, posterior_mean_field, prior_trainable\n",
    "pd.set_option('display.max_columns', 500)\n",
    "# this allows you to make changes and save in student_utils.py and the file is reloaded every time you run a code block\n",
    "%load_ext autoreload\n",
    "%autoreload"
   ]
  },
  {
   "cell_type": "code",
   "execution_count": 96,
   "metadata": {},
   "outputs": [],
   "source": [
    "#OPEN ISSUE ON MAC OSX for TF model training\n",
    "import os\n",
    "os.environ['KMP_DUPLICATE_LIB_OK']='True'"
   ]
  },
  {
   "cell_type": "code",
   "execution_count": 97,
   "metadata": {},
   "outputs": [
    {
     "data": {
      "application/javascript": [
       "IPython.OutputArea.prototype._should_scroll = function(lines) {\n",
       "    return false;\n",
       "}\n"
      ],
      "text/plain": [
       "<IPython.core.display.Javascript object>"
      ]
     },
     "metadata": {},
     "output_type": "display_data"
    }
   ],
   "source": [
    "%%javascript\n",
    "IPython.OutputArea.prototype._should_scroll = function(lines) {\n",
    "    return false;\n",
    "}"
   ]
  },
  {
   "cell_type": "markdown",
   "metadata": {},
   "source": [
    "## Dataset Loading and Schema Review"
   ]
  },
  {
   "cell_type": "markdown",
   "metadata": {},
   "source": [
    "Load the dataset and view a sample of the dataset along with reviewing the schema reference files to gain a deeper understanding of the dataset. The dataset is located at the following path https://github.com/udacity/nd320-c1-emr-data-starter/blob/master/starter_code/data/final_project_dataset.csv\". Also, review the information found in the data schema https://github.com/udacity/nd320-c1-emr-data-starter/tree/master/data_schema_references/"
   ]
  },
  {
   "cell_type": "code",
   "execution_count": 98,
   "metadata": {},
   "outputs": [],
   "source": [
    "dataset_path = \"./data/final_project_dataset.csv\"\n",
    "df = pd.read_csv(dataset_path)"
   ]
  },
  {
   "cell_type": "code",
   "execution_count": 99,
   "metadata": {},
   "outputs": [
    {
     "data": {
      "text/html": [
       "<div>\n",
       "<style scoped>\n",
       "    .dataframe tbody tr th:only-of-type {\n",
       "        vertical-align: middle;\n",
       "    }\n",
       "\n",
       "    .dataframe tbody tr th {\n",
       "        vertical-align: top;\n",
       "    }\n",
       "\n",
       "    .dataframe thead th {\n",
       "        text-align: right;\n",
       "    }\n",
       "</style>\n",
       "<table border=\"1\" class=\"dataframe\">\n",
       "  <thead>\n",
       "    <tr style=\"text-align: right;\">\n",
       "      <th></th>\n",
       "      <th>encounter_id</th>\n",
       "      <th>patient_nbr</th>\n",
       "      <th>admission_type_id</th>\n",
       "      <th>discharge_disposition_id</th>\n",
       "      <th>admission_source_id</th>\n",
       "      <th>time_in_hospital</th>\n",
       "      <th>number_outpatient</th>\n",
       "      <th>number_inpatient</th>\n",
       "      <th>number_emergency</th>\n",
       "      <th>num_lab_procedures</th>\n",
       "      <th>number_diagnoses</th>\n",
       "      <th>num_medications</th>\n",
       "      <th>num_procedures</th>\n",
       "    </tr>\n",
       "  </thead>\n",
       "  <tbody>\n",
       "    <tr>\n",
       "      <th>count</th>\n",
       "      <td>1.434240e+05</td>\n",
       "      <td>1.434240e+05</td>\n",
       "      <td>143424.000000</td>\n",
       "      <td>143424.000000</td>\n",
       "      <td>143424.000000</td>\n",
       "      <td>143424.000000</td>\n",
       "      <td>143424.000000</td>\n",
       "      <td>143424.000000</td>\n",
       "      <td>143424.000000</td>\n",
       "      <td>143424.000000</td>\n",
       "      <td>143424.000000</td>\n",
       "      <td>143424.000000</td>\n",
       "      <td>143424.000000</td>\n",
       "    </tr>\n",
       "    <tr>\n",
       "      <th>mean</th>\n",
       "      <td>1.674290e+08</td>\n",
       "      <td>5.493608e+07</td>\n",
       "      <td>2.027694</td>\n",
       "      <td>3.655316</td>\n",
       "      <td>5.701096</td>\n",
       "      <td>4.490190</td>\n",
       "      <td>0.362429</td>\n",
       "      <td>0.600855</td>\n",
       "      <td>0.195086</td>\n",
       "      <td>43.255745</td>\n",
       "      <td>7.424434</td>\n",
       "      <td>16.776035</td>\n",
       "      <td>1.349021</td>\n",
       "    </tr>\n",
       "    <tr>\n",
       "      <th>std</th>\n",
       "      <td>1.019046e+08</td>\n",
       "      <td>3.857840e+07</td>\n",
       "      <td>1.427585</td>\n",
       "      <td>5.219279</td>\n",
       "      <td>4.064532</td>\n",
       "      <td>2.999667</td>\n",
       "      <td>1.249295</td>\n",
       "      <td>1.207934</td>\n",
       "      <td>0.920410</td>\n",
       "      <td>19.657319</td>\n",
       "      <td>1.924872</td>\n",
       "      <td>8.397130</td>\n",
       "      <td>1.719104</td>\n",
       "    </tr>\n",
       "    <tr>\n",
       "      <th>min</th>\n",
       "      <td>1.252200e+04</td>\n",
       "      <td>1.350000e+02</td>\n",
       "      <td>1.000000</td>\n",
       "      <td>1.000000</td>\n",
       "      <td>1.000000</td>\n",
       "      <td>1.000000</td>\n",
       "      <td>0.000000</td>\n",
       "      <td>0.000000</td>\n",
       "      <td>0.000000</td>\n",
       "      <td>1.000000</td>\n",
       "      <td>1.000000</td>\n",
       "      <td>1.000000</td>\n",
       "      <td>0.000000</td>\n",
       "    </tr>\n",
       "    <tr>\n",
       "      <th>25%</th>\n",
       "      <td>8.829596e+07</td>\n",
       "      <td>2.357219e+07</td>\n",
       "      <td>1.000000</td>\n",
       "      <td>1.000000</td>\n",
       "      <td>1.000000</td>\n",
       "      <td>2.000000</td>\n",
       "      <td>0.000000</td>\n",
       "      <td>0.000000</td>\n",
       "      <td>0.000000</td>\n",
       "      <td>32.000000</td>\n",
       "      <td>6.000000</td>\n",
       "      <td>11.000000</td>\n",
       "      <td>0.000000</td>\n",
       "    </tr>\n",
       "    <tr>\n",
       "      <th>50%</th>\n",
       "      <td>1.547637e+08</td>\n",
       "      <td>4.630783e+07</td>\n",
       "      <td>1.000000</td>\n",
       "      <td>1.000000</td>\n",
       "      <td>7.000000</td>\n",
       "      <td>4.000000</td>\n",
       "      <td>0.000000</td>\n",
       "      <td>0.000000</td>\n",
       "      <td>0.000000</td>\n",
       "      <td>44.000000</td>\n",
       "      <td>8.000000</td>\n",
       "      <td>15.000000</td>\n",
       "      <td>1.000000</td>\n",
       "    </tr>\n",
       "    <tr>\n",
       "      <th>75%</th>\n",
       "      <td>2.320897e+08</td>\n",
       "      <td>8.823627e+07</td>\n",
       "      <td>3.000000</td>\n",
       "      <td>3.000000</td>\n",
       "      <td>7.000000</td>\n",
       "      <td>6.000000</td>\n",
       "      <td>0.000000</td>\n",
       "      <td>1.000000</td>\n",
       "      <td>0.000000</td>\n",
       "      <td>57.000000</td>\n",
       "      <td>9.000000</td>\n",
       "      <td>21.000000</td>\n",
       "      <td>2.000000</td>\n",
       "    </tr>\n",
       "    <tr>\n",
       "      <th>max</th>\n",
       "      <td>4.438672e+08</td>\n",
       "      <td>1.895026e+08</td>\n",
       "      <td>8.000000</td>\n",
       "      <td>28.000000</td>\n",
       "      <td>25.000000</td>\n",
       "      <td>14.000000</td>\n",
       "      <td>42.000000</td>\n",
       "      <td>21.000000</td>\n",
       "      <td>76.000000</td>\n",
       "      <td>132.000000</td>\n",
       "      <td>16.000000</td>\n",
       "      <td>81.000000</td>\n",
       "      <td>6.000000</td>\n",
       "    </tr>\n",
       "  </tbody>\n",
       "</table>\n",
       "</div>"
      ],
      "text/plain": [
       "       encounter_id   patient_nbr  admission_type_id  \\\n",
       "count  1.434240e+05  1.434240e+05      143424.000000   \n",
       "mean   1.674290e+08  5.493608e+07           2.027694   \n",
       "std    1.019046e+08  3.857840e+07           1.427585   \n",
       "min    1.252200e+04  1.350000e+02           1.000000   \n",
       "25%    8.829596e+07  2.357219e+07           1.000000   \n",
       "50%    1.547637e+08  4.630783e+07           1.000000   \n",
       "75%    2.320897e+08  8.823627e+07           3.000000   \n",
       "max    4.438672e+08  1.895026e+08           8.000000   \n",
       "\n",
       "       discharge_disposition_id  admission_source_id  time_in_hospital  \\\n",
       "count             143424.000000        143424.000000     143424.000000   \n",
       "mean                   3.655316             5.701096          4.490190   \n",
       "std                    5.219279             4.064532          2.999667   \n",
       "min                    1.000000             1.000000          1.000000   \n",
       "25%                    1.000000             1.000000          2.000000   \n",
       "50%                    1.000000             7.000000          4.000000   \n",
       "75%                    3.000000             7.000000          6.000000   \n",
       "max                   28.000000            25.000000         14.000000   \n",
       "\n",
       "       number_outpatient  number_inpatient  number_emergency  \\\n",
       "count      143424.000000     143424.000000     143424.000000   \n",
       "mean            0.362429          0.600855          0.195086   \n",
       "std             1.249295          1.207934          0.920410   \n",
       "min             0.000000          0.000000          0.000000   \n",
       "25%             0.000000          0.000000          0.000000   \n",
       "50%             0.000000          0.000000          0.000000   \n",
       "75%             0.000000          1.000000          0.000000   \n",
       "max            42.000000         21.000000         76.000000   \n",
       "\n",
       "       num_lab_procedures  number_diagnoses  num_medications  num_procedures  \n",
       "count       143424.000000     143424.000000    143424.000000   143424.000000  \n",
       "mean            43.255745          7.424434        16.776035        1.349021  \n",
       "std             19.657319          1.924872         8.397130        1.719104  \n",
       "min              1.000000          1.000000         1.000000        0.000000  \n",
       "25%             32.000000          6.000000        11.000000        0.000000  \n",
       "50%             44.000000          8.000000        15.000000        1.000000  \n",
       "75%             57.000000          9.000000        21.000000        2.000000  \n",
       "max            132.000000         16.000000        81.000000        6.000000  "
      ]
     },
     "execution_count": 99,
     "metadata": {},
     "output_type": "execute_result"
    }
   ],
   "source": [
    "df.describe()"
   ]
  },
  {
   "cell_type": "code",
   "execution_count": 100,
   "metadata": {},
   "outputs": [
    {
     "name": "stdout",
     "output_type": "stream",
     "text": [
      "<class 'pandas.core.frame.DataFrame'>\n",
      "RangeIndex: 143424 entries, 0 to 143423\n",
      "Data columns (total 26 columns):\n",
      " #   Column                    Non-Null Count   Dtype \n",
      "---  ------                    --------------   ----- \n",
      " 0   encounter_id              143424 non-null  int64 \n",
      " 1   patient_nbr               143424 non-null  int64 \n",
      " 2   race                      143424 non-null  object\n",
      " 3   gender                    143424 non-null  object\n",
      " 4   age                       143424 non-null  object\n",
      " 5   weight                    143424 non-null  object\n",
      " 6   admission_type_id         143424 non-null  int64 \n",
      " 7   discharge_disposition_id  143424 non-null  int64 \n",
      " 8   admission_source_id       143424 non-null  int64 \n",
      " 9   time_in_hospital          143424 non-null  int64 \n",
      " 10  payer_code                143424 non-null  object\n",
      " 11  medical_specialty         143424 non-null  object\n",
      " 12  primary_diagnosis_code    143424 non-null  object\n",
      " 13  other_diagnosis_codes     143424 non-null  object\n",
      " 14  number_outpatient         143424 non-null  int64 \n",
      " 15  number_inpatient          143424 non-null  int64 \n",
      " 16  number_emergency          143424 non-null  int64 \n",
      " 17  num_lab_procedures        143424 non-null  int64 \n",
      " 18  number_diagnoses          143424 non-null  int64 \n",
      " 19  num_medications           143424 non-null  int64 \n",
      " 20  num_procedures            143424 non-null  int64 \n",
      " 21  ndc_code                  119962 non-null  object\n",
      " 22  max_glu_serum             143424 non-null  object\n",
      " 23  A1Cresult                 143424 non-null  object\n",
      " 24  change                    143424 non-null  object\n",
      " 25  readmitted                143424 non-null  object\n",
      "dtypes: int64(13), object(13)\n",
      "memory usage: 28.5+ MB\n"
     ]
    }
   ],
   "source": [
    "df.info()"
   ]
  },
  {
   "cell_type": "code",
   "execution_count": 101,
   "metadata": {},
   "outputs": [
    {
     "data": {
      "text/plain": [
       "{dtype('int64'): Index(['encounter_id', 'patient_nbr', 'admission_type_id',\n",
       "        'discharge_disposition_id', 'admission_source_id', 'time_in_hospital',\n",
       "        'number_outpatient', 'number_inpatient', 'number_emergency',\n",
       "        'num_lab_procedures', 'number_diagnoses', 'num_medications',\n",
       "        'num_procedures'],\n",
       "       dtype='object'),\n",
       " dtype('O'): Index(['race', 'gender', 'age', 'weight', 'payer_code', 'medical_specialty',\n",
       "        'primary_diagnosis_code', 'other_diagnosis_codes', 'ndc_code',\n",
       "        'max_glu_serum', 'A1Cresult', 'change', 'readmitted'],\n",
       "       dtype='object')}"
      ]
     },
     "execution_count": 101,
     "metadata": {},
     "output_type": "execute_result"
    }
   ],
   "source": [
    "features_by_type = df.columns.to_series().groupby(df.dtypes).groups\n",
    "features_by_type"
   ]
  },
  {
   "cell_type": "markdown",
   "metadata": {},
   "source": [
    "## Determine Level of Dataset (Line or Encounter)"
   ]
  },
  {
   "cell_type": "code",
   "execution_count": 102,
   "metadata": {},
   "outputs": [
    {
     "name": "stdout",
     "output_type": "stream",
     "text": [
      "Line level, total records 143424, encounters 101766\n"
     ]
    }
   ],
   "source": [
    "num_total = len(df)\n",
    "num_encounters = df['encounter_id'].nunique()\n",
    "if num_encounters == num_total:\n",
    "    print(f'Encounter level')\n",
    "else:\n",
    "    print(f'Line level, total records {num_total}, encounters {num_encounters}')"
   ]
  },
  {
   "cell_type": "markdown",
   "metadata": {},
   "source": [
    "**Question 1**: Based off of analysis of the data, what level is this dataset? Is it at the line or encounter level? Are there any key fields besides the encounter_id and patient_nbr fields that we should use to aggregate on? Knowing this information will help inform us what level of aggregation is necessary for future steps and is a step that is often overlooked. "
   ]
  },
  {
   "cell_type": "markdown",
   "metadata": {},
   "source": [
    "**Question 1** <font color='red'><b>Student Response</b></font>: Dataset is line level, as there are many records per encounter/visit."
   ]
  },
  {
   "cell_type": "markdown",
   "metadata": {},
   "source": [
    "## Analyze Dataset"
   ]
  },
  {
   "cell_type": "markdown",
   "metadata": {},
   "source": [
    "**Question 2**: Utilizing the library of your choice (recommend Pandas and Seaborn or matplotlib though), perform exploratory data analysis on the dataset. In particular be sure to address the following questions:  \n",
    "    - a. Field(s) with high amount of missing/zero values\n",
    "    - b. Based off the frequency histogram for each numerical field, which numerical field(s) has/have a Gaussian(normal) distribution shape?\n",
    "    - c. Which field(s) have high cardinality and why (HINT: ndc_code is one feature)\n",
    "    - d. Please describe the demographic distributions in the dataset for the age and gender fields.\n",
    "    \n"
   ]
  },
  {
   "cell_type": "markdown",
   "metadata": {},
   "source": [
    "**OPTIONAL**: Use the Tensorflow Data Validation and Analysis library to complete. \n",
    "- The Tensorflow Data Validation and Analysis library(https://www.tensorflow.org/tfx/data_validation/get_started) is a useful tool for analyzing and summarizing dataset statistics. It is especially useful because it can scale to large datasets that do not fit into memory. \n",
    "- Note that there are some bugs that are still being resolved with Chrome v80 and we have moved away from using this for the project. "
   ]
  },
  {
   "cell_type": "code",
   "execution_count": 103,
   "metadata": {
    "scrolled": false
   },
   "outputs": [
    {
     "name": "stderr",
     "output_type": "stream",
     "text": [
      "/opt/conda/lib/python3.7/site-packages/pandas/plotting/_matplotlib/tools.py:298: MatplotlibDeprecationWarning: \n",
      "The rowNum attribute was deprecated in Matplotlib 3.2 and will be removed two minor releases later. Use ax.get_subplotspec().rowspan.start instead.\n",
      "  layout[ax.rowNum, ax.colNum] = ax.get_visible()\n",
      "/opt/conda/lib/python3.7/site-packages/pandas/plotting/_matplotlib/tools.py:298: MatplotlibDeprecationWarning: \n",
      "The colNum attribute was deprecated in Matplotlib 3.2 and will be removed two minor releases later. Use ax.get_subplotspec().colspan.start instead.\n",
      "  layout[ax.rowNum, ax.colNum] = ax.get_visible()\n",
      "/opt/conda/lib/python3.7/site-packages/pandas/plotting/_matplotlib/tools.py:304: MatplotlibDeprecationWarning: \n",
      "The rowNum attribute was deprecated in Matplotlib 3.2 and will be removed two minor releases later. Use ax.get_subplotspec().rowspan.start instead.\n",
      "  if not layout[ax.rowNum + 1, ax.colNum]:\n",
      "/opt/conda/lib/python3.7/site-packages/pandas/plotting/_matplotlib/tools.py:304: MatplotlibDeprecationWarning: \n",
      "The colNum attribute was deprecated in Matplotlib 3.2 and will be removed two minor releases later. Use ax.get_subplotspec().colspan.start instead.\n",
      "  if not layout[ax.rowNum + 1, ax.colNum]:\n"
     ]
    },
    {
     "data": {
      "image/png": "[encoded data removed]",
      "text/plain": [
       "<Figure size 720x720 with 16 Axes>"
      ]
     },
     "metadata": {
      "needs_background": "light"
     },
     "output_type": "display_data"
    }
   ],
   "source": [
    "%matplotlib inline\n",
    "df.hist(figsize=(10,10), bins=100)\n",
    "plt.show()"
   ]
  },
  {
   "cell_type": "code",
   "execution_count": 104,
   "metadata": {
    "scrolled": true
   },
   "outputs": [
    {
     "data": {
      "text/plain": [
       "encounter_id                    0\n",
       "patient_nbr                     0\n",
       "race                            0\n",
       "gender                          0\n",
       "age                             0\n",
       "weight                          0\n",
       "admission_type_id               0\n",
       "discharge_disposition_id        0\n",
       "admission_source_id             0\n",
       "time_in_hospital                0\n",
       "payer_code                      0\n",
       "medical_specialty               0\n",
       "primary_diagnosis_code          0\n",
       "other_diagnosis_codes           0\n",
       "number_outpatient               0\n",
       "number_inpatient                0\n",
       "number_emergency                0\n",
       "num_lab_procedures              0\n",
       "number_diagnoses                0\n",
       "num_medications                 0\n",
       "num_procedures                  0\n",
       "ndc_code                    23462\n",
       "max_glu_serum                   0\n",
       "A1Cresult                       0\n",
       "change                          0\n",
       "readmitted                      0\n",
       "dtype: int64"
      ]
     },
     "execution_count": 104,
     "metadata": {},
     "output_type": "execute_result"
    }
   ],
   "source": [
    "df.isnull().sum()"
   ]
  },
  {
   "cell_type": "code",
   "execution_count": 105,
   "metadata": {
    "scrolled": true
   },
   "outputs": [
    {
     "data": {
      "text/plain": [
       "encounter_id                101766\n",
       "patient_nbr                  71518\n",
       "race                             6\n",
       "gender                           3\n",
       "age                             10\n",
       "weight                          10\n",
       "admission_type_id                8\n",
       "discharge_disposition_id        26\n",
       "admission_source_id             17\n",
       "time_in_hospital                14\n",
       "payer_code                      18\n",
       "medical_specialty               73\n",
       "primary_diagnosis_code         717\n",
       "other_diagnosis_codes        19374\n",
       "number_outpatient               39\n",
       "number_inpatient                21\n",
       "number_emergency                33\n",
       "num_lab_procedures             118\n",
       "number_diagnoses                16\n",
       "num_medications                 75\n",
       "num_procedures                   7\n",
       "ndc_code                       251\n",
       "max_glu_serum                    4\n",
       "A1Cresult                        4\n",
       "change                           2\n",
       "readmitted                       3\n",
       "dtype: int64"
      ]
     },
     "execution_count": 105,
     "metadata": {},
     "output_type": "execute_result"
    }
   ],
   "source": [
    "df.apply(pd.Series.nunique)"
   ]
  },
  {
   "cell_type": "code",
   "execution_count": 106,
   "metadata": {},
   "outputs": [],
   "source": [
    "def get_unique_values(col_name):\n",
    "    return list(df[col_name].unique())\n",
    "    \n",
    "def get_records(col_name, value):\n",
    "    return df[(df[col_name] == value)]\n"
   ]
  },
  {
   "cell_type": "code",
   "execution_count": 107,
   "metadata": {
    "scrolled": false
   },
   "outputs": [
    {
     "data": {
      "text/html": [
       "<div>\n",
       "<style scoped>\n",
       "    .dataframe tbody tr th:only-of-type {\n",
       "        vertical-align: middle;\n",
       "    }\n",
       "\n",
       "    .dataframe tbody tr th {\n",
       "        vertical-align: top;\n",
       "    }\n",
       "\n",
       "    .dataframe thead th {\n",
       "        text-align: right;\n",
       "    }\n",
       "</style>\n",
       "<table border=\"1\" class=\"dataframe\">\n",
       "  <thead>\n",
       "    <tr style=\"text-align: right;\">\n",
       "      <th></th>\n",
       "      <th>name</th>\n",
       "      <th>num unique values</th>\n",
       "      <th>missing notation</th>\n",
       "      <th>num missing</th>\n",
       "      <th>num null</th>\n",
       "      <th>missing or null (%)</th>\n",
       "      <th>values</th>\n",
       "    </tr>\n",
       "  </thead>\n",
       "  <tbody>\n",
       "    <tr>\n",
       "      <th>0</th>\n",
       "      <td>race</td>\n",
       "      <td>6</td>\n",
       "      <td>?</td>\n",
       "      <td>3309</td>\n",
       "      <td>0</td>\n",
       "      <td>2.307145</td>\n",
       "      <td>[Caucasian, AfricanAmerican, ?, Other, Asian, ...</td>\n",
       "    </tr>\n",
       "    <tr>\n",
       "      <th>1</th>\n",
       "      <td>gender</td>\n",
       "      <td>3</td>\n",
       "      <td>Unknown/Invalid</td>\n",
       "      <td>5</td>\n",
       "      <td>0</td>\n",
       "      <td>0.003486</td>\n",
       "      <td>[Female, Male, Unknown/Invalid]</td>\n",
       "    </tr>\n",
       "    <tr>\n",
       "      <th>2</th>\n",
       "      <td>age</td>\n",
       "      <td>10</td>\n",
       "      <td></td>\n",
       "      <td>0</td>\n",
       "      <td>0</td>\n",
       "      <td>0.000000</td>\n",
       "      <td>[[0-10), [10-20), [20-30), [30-40), [40-50), [...</td>\n",
       "    </tr>\n",
       "    <tr>\n",
       "      <th>3</th>\n",
       "      <td>weight</td>\n",
       "      <td>10</td>\n",
       "      <td>?</td>\n",
       "      <td>139122</td>\n",
       "      <td>0</td>\n",
       "      <td>97.000502</td>\n",
       "      <td>[?, [75-100), [50-75), [0-25), [100-125), [25-...</td>\n",
       "    </tr>\n",
       "    <tr>\n",
       "      <th>4</th>\n",
       "      <td>payer_code</td>\n",
       "      <td>18</td>\n",
       "      <td>?</td>\n",
       "      <td>54190</td>\n",
       "      <td>0</td>\n",
       "      <td>37.783077</td>\n",
       "      <td>[?, MC, MD, HM, UN, BC, SP, CP, SI, DM, CM, CH...</td>\n",
       "    </tr>\n",
       "    <tr>\n",
       "      <th>5</th>\n",
       "      <td>medical_specialty</td>\n",
       "      <td>73</td>\n",
       "      <td>?</td>\n",
       "      <td>69463</td>\n",
       "      <td>0</td>\n",
       "      <td>48.431922</td>\n",
       "      <td>[Pediatrics-Endocrinology, ?, InternalMedicine...</td>\n",
       "    </tr>\n",
       "    <tr>\n",
       "      <th>6</th>\n",
       "      <td>primary_diagnosis_code</td>\n",
       "      <td>717</td>\n",
       "      <td>?</td>\n",
       "      <td>33</td>\n",
       "      <td>0</td>\n",
       "      <td>0.023009</td>\n",
       "      <td>[250.83, 276, 648, 8, 197, 414, 428, 398, 434,...</td>\n",
       "    </tr>\n",
       "    <tr>\n",
       "      <th>7</th>\n",
       "      <td>other_diagnosis_codes</td>\n",
       "      <td>19374</td>\n",
       "      <td>?|?</td>\n",
       "      <td>340</td>\n",
       "      <td>0</td>\n",
       "      <td>0.237059</td>\n",
       "      <td>[?|?, 250.01|255, 250|V27, 250.43|403, 157|250...</td>\n",
       "    </tr>\n",
       "    <tr>\n",
       "      <th>8</th>\n",
       "      <td>ndc_code</td>\n",
       "      <td>252</td>\n",
       "      <td></td>\n",
       "      <td>0</td>\n",
       "      <td>23462</td>\n",
       "      <td>16.358490</td>\n",
       "      <td>[nan, 68071-1701, 0378-1110, 0049-4110, 47918-...</td>\n",
       "    </tr>\n",
       "    <tr>\n",
       "      <th>9</th>\n",
       "      <td>max_glu_serum</td>\n",
       "      <td>4</td>\n",
       "      <td>None</td>\n",
       "      <td>136409</td>\n",
       "      <td>0</td>\n",
       "      <td>95.108908</td>\n",
       "      <td>[None, &gt;300, Norm, &gt;200]</td>\n",
       "    </tr>\n",
       "    <tr>\n",
       "      <th>10</th>\n",
       "      <td>A1Cresult</td>\n",
       "      <td>4</td>\n",
       "      <td>None</td>\n",
       "      <td>117650</td>\n",
       "      <td>0</td>\n",
       "      <td>82.029507</td>\n",
       "      <td>[None, &gt;7, &gt;8, Norm]</td>\n",
       "    </tr>\n",
       "    <tr>\n",
       "      <th>11</th>\n",
       "      <td>change</td>\n",
       "      <td>2</td>\n",
       "      <td></td>\n",
       "      <td>0</td>\n",
       "      <td>0</td>\n",
       "      <td>0.000000</td>\n",
       "      <td>[No, Ch]</td>\n",
       "    </tr>\n",
       "    <tr>\n",
       "      <th>12</th>\n",
       "      <td>readmitted</td>\n",
       "      <td>3</td>\n",
       "      <td></td>\n",
       "      <td>0</td>\n",
       "      <td>0</td>\n",
       "      <td>0.000000</td>\n",
       "      <td>[NO, &gt;30, &lt;30]</td>\n",
       "    </tr>\n",
       "  </tbody>\n",
       "</table>\n",
       "</div>"
      ],
      "text/plain": [
       "                      name  num unique values missing notation  num missing  \\\n",
       "0                     race                  6                ?         3309   \n",
       "1                   gender                  3  Unknown/Invalid            5   \n",
       "2                      age                 10                             0   \n",
       "3                   weight                 10                ?       139122   \n",
       "4               payer_code                 18                ?        54190   \n",
       "5        medical_specialty                 73                ?        69463   \n",
       "6   primary_diagnosis_code                717                ?           33   \n",
       "7    other_diagnosis_codes              19374              ?|?          340   \n",
       "8                 ndc_code                252                             0   \n",
       "9            max_glu_serum                  4             None       136409   \n",
       "10               A1Cresult                  4             None       117650   \n",
       "11                  change                  2                             0   \n",
       "12              readmitted                  3                             0   \n",
       "\n",
       "    num null  missing or null (%)  \\\n",
       "0          0             2.307145   \n",
       "1          0             0.003486   \n",
       "2          0             0.000000   \n",
       "3          0            97.000502   \n",
       "4          0            37.783077   \n",
       "5          0            48.431922   \n",
       "6          0             0.023009   \n",
       "7          0             0.237059   \n",
       "8      23462            16.358490   \n",
       "9          0            95.108908   \n",
       "10         0            82.029507   \n",
       "11         0             0.000000   \n",
       "12         0             0.000000   \n",
       "\n",
       "                                               values  \n",
       "0   [Caucasian, AfricanAmerican, ?, Other, Asian, ...  \n",
       "1                     [Female, Male, Unknown/Invalid]  \n",
       "2   [[0-10), [10-20), [20-30), [30-40), [40-50), [...  \n",
       "3   [?, [75-100), [50-75), [0-25), [100-125), [25-...  \n",
       "4   [?, MC, MD, HM, UN, BC, SP, CP, SI, DM, CM, CH...  \n",
       "5   [Pediatrics-Endocrinology, ?, InternalMedicine...  \n",
       "6   [250.83, 276, 648, 8, 197, 414, 428, 398, 434,...  \n",
       "7   [?|?, 250.01|255, 250|V27, 250.43|403, 157|250...  \n",
       "8   [nan, 68071-1701, 0378-1110, 0049-4110, 47918-...  \n",
       "9                            [None, >300, Norm, >200]  \n",
       "10                               [None, >7, >8, Norm]  \n",
       "11                                           [No, Ch]  \n",
       "12                                     [NO, >30, <30]  "
      ]
     },
     "execution_count": 107,
     "metadata": {},
     "output_type": "execute_result"
    }
   ],
   "source": [
    "feature_names = []\n",
    "feature_num_unique = []\n",
    "feature_missing_value = []\n",
    "feature_num_missing = []\n",
    "feature_num_null = []\n",
    "feature_values = []\n",
    "feature_percent_missing_or_null = []\n",
    "\n",
    "for f in features_by_type[np.dtype('object')]:\n",
    "    values = get_unique_values(f)\n",
    "    feature_names.append(f)\n",
    "    feature_values.append(values)\n",
    "    feature_num_unique.append(len(values))\n",
    "    num_null = df[f].isnull().sum()\n",
    "    feature_num_null.append(num_null)\n",
    "    num_missing_or_null = num_null\n",
    "    has_missing = False\n",
    "    for s in ['?', '?|?', 'None', 'Unknown/Invalid']:\n",
    "        if s in values:\n",
    "            m = len(get_records(f, s))\n",
    "            feature_missing_value.append(s)\n",
    "            feature_num_missing.append(m)\n",
    "            num_missing_or_null += m\n",
    "            has_missing = True\n",
    "            break\n",
    "    if not has_missing:\n",
    "        feature_missing_value.append('')\n",
    "        feature_num_missing.append(0)\n",
    "    feature_percent_missing_or_null.append(100*(num_missing_or_null/len(df)))\n",
    "        \n",
    "\n",
    "df_info = pd.DataFrame.from_dict({\n",
    "    'name': feature_names,\n",
    "    'num unique values': feature_num_unique,\n",
    "    'missing notation': feature_missing_value,\n",
    "    'num missing': feature_num_missing,\n",
    "    'num null': feature_num_null,\n",
    "    'missing or null (%)': feature_percent_missing_or_null,\n",
    "    'values': feature_values\n",
    "})\n",
    "df_info"
   ]
  },
  {
   "cell_type": "markdown",
   "metadata": {},
   "source": [
    "#### Features with missing values >10%"
   ]
  },
  {
   "cell_type": "code",
   "execution_count": 108,
   "metadata": {
    "scrolled": true
   },
   "outputs": [
    {
     "data": {
      "text/html": [
       "<div>\n",
       "<style scoped>\n",
       "    .dataframe tbody tr th:only-of-type {\n",
       "        vertical-align: middle;\n",
       "    }\n",
       "\n",
       "    .dataframe tbody tr th {\n",
       "        vertical-align: top;\n",
       "    }\n",
       "\n",
       "    .dataframe thead th {\n",
       "        text-align: right;\n",
       "    }\n",
       "</style>\n",
       "<table border=\"1\" class=\"dataframe\">\n",
       "  <thead>\n",
       "    <tr style=\"text-align: right;\">\n",
       "      <th></th>\n",
       "      <th>name</th>\n",
       "      <th>missing or null (%)</th>\n",
       "    </tr>\n",
       "  </thead>\n",
       "  <tbody>\n",
       "    <tr>\n",
       "      <th>3</th>\n",
       "      <td>weight</td>\n",
       "      <td>97.000502</td>\n",
       "    </tr>\n",
       "    <tr>\n",
       "      <th>4</th>\n",
       "      <td>payer_code</td>\n",
       "      <td>37.783077</td>\n",
       "    </tr>\n",
       "    <tr>\n",
       "      <th>5</th>\n",
       "      <td>medical_specialty</td>\n",
       "      <td>48.431922</td>\n",
       "    </tr>\n",
       "    <tr>\n",
       "      <th>8</th>\n",
       "      <td>ndc_code</td>\n",
       "      <td>16.358490</td>\n",
       "    </tr>\n",
       "    <tr>\n",
       "      <th>9</th>\n",
       "      <td>max_glu_serum</td>\n",
       "      <td>95.108908</td>\n",
       "    </tr>\n",
       "    <tr>\n",
       "      <th>10</th>\n",
       "      <td>A1Cresult</td>\n",
       "      <td>82.029507</td>\n",
       "    </tr>\n",
       "  </tbody>\n",
       "</table>\n",
       "</div>"
      ],
      "text/plain": [
       "                 name  missing or null (%)\n",
       "3              weight            97.000502\n",
       "4          payer_code            37.783077\n",
       "5   medical_specialty            48.431922\n",
       "8            ndc_code            16.358490\n",
       "9       max_glu_serum            95.108908\n",
       "10          A1Cresult            82.029507"
      ]
     },
     "execution_count": 108,
     "metadata": {},
     "output_type": "execute_result"
    }
   ],
   "source": [
    "df_info_missing = df_info[['name', 'missing or null (%)']]\n",
    "df_info_missing[df_info_missing['missing or null (%)'] > 10.0]"
   ]
  },
  {
   "cell_type": "markdown",
   "metadata": {},
   "source": [
    "#### High cardinality features (>20 unique values)"
   ]
  },
  {
   "cell_type": "code",
   "execution_count": 109,
   "metadata": {
    "scrolled": false
   },
   "outputs": [
    {
     "data": {
      "text/html": [
       "<div>\n",
       "<style scoped>\n",
       "    .dataframe tbody tr th:only-of-type {\n",
       "        vertical-align: middle;\n",
       "    }\n",
       "\n",
       "    .dataframe tbody tr th {\n",
       "        vertical-align: top;\n",
       "    }\n",
       "\n",
       "    .dataframe thead th {\n",
       "        text-align: right;\n",
       "    }\n",
       "</style>\n",
       "<table border=\"1\" class=\"dataframe\">\n",
       "  <thead>\n",
       "    <tr style=\"text-align: right;\">\n",
       "      <th></th>\n",
       "      <th>name</th>\n",
       "      <th>num unique values</th>\n",
       "      <th>values</th>\n",
       "    </tr>\n",
       "  </thead>\n",
       "  <tbody>\n",
       "    <tr>\n",
       "      <th>5</th>\n",
       "      <td>medical_specialty</td>\n",
       "      <td>73</td>\n",
       "      <td>[Pediatrics-Endocrinology, ?, InternalMedicine...</td>\n",
       "    </tr>\n",
       "    <tr>\n",
       "      <th>6</th>\n",
       "      <td>primary_diagnosis_code</td>\n",
       "      <td>717</td>\n",
       "      <td>[250.83, 276, 648, 8, 197, 414, 428, 398, 434,...</td>\n",
       "    </tr>\n",
       "    <tr>\n",
       "      <th>7</th>\n",
       "      <td>other_diagnosis_codes</td>\n",
       "      <td>19374</td>\n",
       "      <td>[?|?, 250.01|255, 250|V27, 250.43|403, 157|250...</td>\n",
       "    </tr>\n",
       "    <tr>\n",
       "      <th>8</th>\n",
       "      <td>ndc_code</td>\n",
       "      <td>252</td>\n",
       "      <td>[nan, 68071-1701, 0378-1110, 0049-4110, 47918-...</td>\n",
       "    </tr>\n",
       "  </tbody>\n",
       "</table>\n",
       "</div>"
      ],
      "text/plain": [
       "                     name  num unique values  \\\n",
       "5       medical_specialty                 73   \n",
       "6  primary_diagnosis_code                717   \n",
       "7   other_diagnosis_codes              19374   \n",
       "8                ndc_code                252   \n",
       "\n",
       "                                              values  \n",
       "5  [Pediatrics-Endocrinology, ?, InternalMedicine...  \n",
       "6  [250.83, 276, 648, 8, 197, 414, 428, 398, 434,...  \n",
       "7  [?|?, 250.01|255, 250|V27, 250.43|403, 157|250...  \n",
       "8  [nan, 68071-1701, 0378-1110, 0049-4110, 47918-...  "
      ]
     },
     "execution_count": 109,
     "metadata": {},
     "output_type": "execute_result"
    }
   ],
   "source": [
    "df_info_unique = df_info[['name', 'num unique values', 'values']]\n",
    "df_info_unique[df_info_unique['num unique values'] > 20.0]"
   ]
  },
  {
   "cell_type": "markdown",
   "metadata": {},
   "source": [
    "#### Demographic distributions (age, gender)"
   ]
  },
  {
   "cell_type": "code",
   "execution_count": 110,
   "metadata": {
    "scrolled": true
   },
   "outputs": [
    {
     "data": {
      "text/plain": [
       "<matplotlib.axes._subplots.AxesSubplot at 0x7f1f7d72a850>"
      ]
     },
     "execution_count": 110,
     "metadata": {},
     "output_type": "execute_result"
    },
    {
     "data": {
      "image/png": "[encoded data removed]",
      "text/plain": [
       "<Figure size 432x288 with 1 Axes>"
      ]
     },
     "metadata": {
      "needs_background": "light"
     },
     "output_type": "display_data"
    }
   ],
   "source": [
    "df['age'].hist(bins=10)"
   ]
  },
  {
   "cell_type": "code",
   "execution_count": 111,
   "metadata": {
    "scrolled": true
   },
   "outputs": [
    {
     "data": {
      "text/plain": [
       "<matplotlib.axes._subplots.AxesSubplot at 0x7f1f82499810>"
      ]
     },
     "execution_count": 111,
     "metadata": {},
     "output_type": "execute_result"
    },
    {
     "data": {
      "image/png": "[encoded data removed]",
      "text/plain": [
       "<Figure size 432x288 with 1 Axes>"
      ]
     },
     "metadata": {
      "needs_background": "light"
     },
     "output_type": "display_data"
    }
   ],
   "source": [
    "df['gender'].hist(bins=3)"
   ]
  },
  {
   "cell_type": "code",
   "execution_count": 112,
   "metadata": {},
   "outputs": [
    {
     "name": "stdout",
     "output_type": "stream",
     "text": [
      "Male: 67234, Female: 76185, Diff: 8951, Unknown/Invalid: 5\n",
      "Male: 46.9%, Female: 53.1%, Diff: 6.2%\n"
     ]
    }
   ],
   "source": [
    "num_male = len(df[(df['gender'] == 'Male')])\n",
    "num_female = len(df[(df['gender'] == 'Female')])\n",
    "num_unknown = len(df[(df['gender'] == 'Unknown/Invalid')])\n",
    "print(f'Male: {num_male}, Female: {num_female}, Diff: {num_female-num_male}, Unknown/Invalid: {num_unknown}')\n",
    "print(f'Male: {100*num_male/len(df):.1f}%, Female: {100*num_female/len(df):.1f}%, Diff: {100*(num_female - num_male)/len(df):.1f}%')"
   ]
  },
  {
   "cell_type": "markdown",
   "metadata": {},
   "source": [
    "**Question 2** <font color='red'><b>Student Response</b></font>:\n",
    "\n",
    "**a. Field(s) with high amount of missing/zero values**\n",
    "\n",
    "Fields with percentage of missing values >10%:\n",
    "\n",
    "* weight \t         (97.00%) \n",
    "* payer_code         (37.78%) \n",
    "* medical_specialty  (48.43%)\n",
    "* ndc_code \t         (16.36%)\n",
    "* max_glu_serum \t (95.11%)\n",
    "* A1Cresult \t     (82.03%)\n",
    "\n",
    "The 0 values for numerical fields like 'number_outpatient' or 'number_emergency', are valid values (should not be considered as missing) since they indicate the person has not been an outpatient or had emergency visits (in the year preceding the encounter).\n",
    "\n",
    "**b. Based off the frequency histogram for each numerical field, which numerical field(s) has/have a Gaussian(normal) distribution shape?**\n",
    "\n",
    "The following features seem to have normal ditribution:\n",
    "\n",
    "* num_lab_procedures (avg. approx. 43)\n",
    "* num_medications (avg. approx. 17)\n",
    "* time_in_hospital (skewed left, avg. approx. 4.5 days)\n",
    "\n",
    "\n",
    "**c. Which field(s) have high cardinality and why**\n",
    "\n",
    "Showing non-numerical high cardinality features (>20 unique values):\n",
    "\n",
    "* medical_specialty \t    (73) - different medical specialists (specializing in large number of different fields) \n",
    "were encountering the patients\n",
    "* primary_diagnosis_code \t(717) - there is a wide variety of primary diagnoses\n",
    "* other_diagnosis_codes \t(19374) - an even wider variety of other diagnoses\n",
    "* ndc_code \t                (252) - wide variety of drugs prescribed to patients during visits\n",
    "\n",
    "**d. Please describe the demographic distributions in the dataset for the age and gender fields.**\n",
    "\n",
    "Age is categorical feature but seems to have normal-like (skewed right) distribution, averaging in the [60-70) interval. The younger the group, the healthier they are and hence, less medical visits. Also, with groups older than 70, there is less visits, but in this case this is most probably due to getting further away from average life expectancy value.\n",
    "\n",
    "Different genders are represented as follows: male 67234 (46.9%), female: 76185 (53.1%), unknown/invalid: 5 (very insignificant number of unknowns). The difference between female and male records is 6.2% (the number is noticeable, but probably not too big to have significant impact, Still, need to obtain the results for further discussion). "
   ]
  },
  {
   "cell_type": "code",
   "execution_count": 113,
   "metadata": {},
   "outputs": [],
   "source": [
    "######NOTE: The visualization will only display in Chrome browser. ########\n",
    "# import tensorflow_data_validation as tfdv\n",
    "\n",
    "# full_data_stats = tfdv.generate_statistics_from_csv(data_location='./data/final_project_dataset.csv') \n",
    "# tfdv.visualize_statistics(full_data_stats)\n",
    "\n",
    "# No, it's not working in Chrome browser either"
   ]
  },
  {
   "cell_type": "markdown",
   "metadata": {},
   "source": [
    "## Reduce Dimensionality of the NDC Code Feature"
   ]
  },
  {
   "cell_type": "markdown",
   "metadata": {},
   "source": [
    "**Question 3**: NDC codes are a common format to represent the wide variety of drugs that are prescribed for patient care in the United States. The challenge is that there are many codes that map to the same or similar drug. You are provided with the ndc drug lookup file https://github.com/udacity/nd320-c1-emr-data-starter/tree/master/data_schema_references/ndc_lookup_table.csv derived from the National Drug Codes List site(https://ndclist.com/). Please use this file to come up with a way to reduce the dimensionality of this field and create a new field in the dataset called \"generic_drug_name\" in the output dataframe. "
   ]
  },
  {
   "cell_type": "code",
   "execution_count": 114,
   "metadata": {},
   "outputs": [],
   "source": [
    "#NDC code lookup file\n",
    "ndc_code_path = \"./medication_lookup_tables/final_ndc_lookup_table\"\n",
    "ndc_code_df = pd.read_csv(ndc_code_path)"
   ]
  },
  {
   "cell_type": "code",
   "execution_count": 115,
   "metadata": {
    "scrolled": true
   },
   "outputs": [
    {
     "data": {
      "text/html": [
       "<div>\n",
       "<style scoped>\n",
       "    .dataframe tbody tr th:only-of-type {\n",
       "        vertical-align: middle;\n",
       "    }\n",
       "\n",
       "    .dataframe tbody tr th {\n",
       "        vertical-align: top;\n",
       "    }\n",
       "\n",
       "    .dataframe thead th {\n",
       "        text-align: right;\n",
       "    }\n",
       "</style>\n",
       "<table border=\"1\" class=\"dataframe\">\n",
       "  <thead>\n",
       "    <tr style=\"text-align: right;\">\n",
       "      <th></th>\n",
       "      <th>NDC_Code</th>\n",
       "      <th>Proprietary Name</th>\n",
       "      <th>Non-proprietary Name</th>\n",
       "      <th>Dosage Form</th>\n",
       "      <th>Route Name</th>\n",
       "      <th>Company Name</th>\n",
       "      <th>Product Type</th>\n",
       "    </tr>\n",
       "  </thead>\n",
       "  <tbody>\n",
       "    <tr>\n",
       "      <th>count</th>\n",
       "      <td>269</td>\n",
       "      <td>269</td>\n",
       "      <td>269</td>\n",
       "      <td>267</td>\n",
       "      <td>264</td>\n",
       "      <td>267</td>\n",
       "      <td>267</td>\n",
       "    </tr>\n",
       "    <tr>\n",
       "      <th>unique</th>\n",
       "      <td>267</td>\n",
       "      <td>39</td>\n",
       "      <td>24</td>\n",
       "      <td>9</td>\n",
       "      <td>2</td>\n",
       "      <td>68</td>\n",
       "      <td>1</td>\n",
       "    </tr>\n",
       "    <tr>\n",
       "      <th>top</th>\n",
       "      <td>0781-5635</td>\n",
       "      <td>Metformin Hydrochloride</td>\n",
       "      <td>Metformin Hydrochloride</td>\n",
       "      <td>Tablet</td>\n",
       "      <td>Oral</td>\n",
       "      <td>Teva Pharmaceuticals Usa, Inc.</td>\n",
       "      <td>Human Prescription Drug</td>\n",
       "    </tr>\n",
       "    <tr>\n",
       "      <th>freq</th>\n",
       "      <td>2</td>\n",
       "      <td>61</td>\n",
       "      <td>71</td>\n",
       "      <td>159</td>\n",
       "      <td>263</td>\n",
       "      <td>17</td>\n",
       "      <td>267</td>\n",
       "    </tr>\n",
       "  </tbody>\n",
       "</table>\n",
       "</div>"
      ],
      "text/plain": [
       "         NDC_Code         Proprietary Name     Non-proprietary Name  \\\n",
       "count         269                      269                      269   \n",
       "unique        267                       39                       24   \n",
       "top     0781-5635  Metformin Hydrochloride  Metformin Hydrochloride   \n",
       "freq            2                       61                       71   \n",
       "\n",
       "       Dosage Form Route Name                    Company Name  \\\n",
       "count          267        264                             267   \n",
       "unique           9          2                              68   \n",
       "top         Tablet       Oral  Teva Pharmaceuticals Usa, Inc.   \n",
       "freq           159        263                              17   \n",
       "\n",
       "                   Product Type  \n",
       "count                       267  \n",
       "unique                        1  \n",
       "top     Human Prescription Drug  \n",
       "freq                        267  "
      ]
     },
     "execution_count": 115,
     "metadata": {},
     "output_type": "execute_result"
    }
   ],
   "source": [
    "ndc_code_df.describe()"
   ]
  },
  {
   "cell_type": "code",
   "execution_count": 116,
   "metadata": {
    "scrolled": true
   },
   "outputs": [
    {
     "name": "stdout",
     "output_type": "stream",
     "text": [
      "<class 'pandas.core.frame.DataFrame'>\n",
      "RangeIndex: 269 entries, 0 to 268\n",
      "Data columns (total 7 columns):\n",
      " #   Column                Non-Null Count  Dtype \n",
      "---  ------                --------------  ----- \n",
      " 0   NDC_Code              269 non-null    object\n",
      " 1   Proprietary Name      269 non-null    object\n",
      " 2   Non-proprietary Name  269 non-null    object\n",
      " 3   Dosage Form           267 non-null    object\n",
      " 4   Route Name            264 non-null    object\n",
      " 5   Company Name          267 non-null    object\n",
      " 6   Product Type          267 non-null    object\n",
      "dtypes: object(7)\n",
      "memory usage: 14.8+ KB\n"
     ]
    }
   ],
   "source": [
    "ndc_code_df.info()"
   ]
  },
  {
   "cell_type": "code",
   "execution_count": 117,
   "metadata": {},
   "outputs": [
    {
     "data": {
      "text/html": [
       "<div>\n",
       "<style scoped>\n",
       "    .dataframe tbody tr th:only-of-type {\n",
       "        vertical-align: middle;\n",
       "    }\n",
       "\n",
       "    .dataframe tbody tr th {\n",
       "        vertical-align: top;\n",
       "    }\n",
       "\n",
       "    .dataframe thead th {\n",
       "        text-align: right;\n",
       "    }\n",
       "</style>\n",
       "<table border=\"1\" class=\"dataframe\">\n",
       "  <thead>\n",
       "    <tr style=\"text-align: right;\">\n",
       "      <th></th>\n",
       "      <th>NDC_Code</th>\n",
       "      <th>Proprietary Name</th>\n",
       "      <th>Non-proprietary Name</th>\n",
       "      <th>Dosage Form</th>\n",
       "      <th>Route Name</th>\n",
       "      <th>Company Name</th>\n",
       "      <th>Product Type</th>\n",
       "    </tr>\n",
       "  </thead>\n",
       "  <tbody>\n",
       "    <tr>\n",
       "      <th>0</th>\n",
       "      <td>0087-6060</td>\n",
       "      <td>Glucophage</td>\n",
       "      <td>Metformin Hydrochloride</td>\n",
       "      <td>Tablet, Film Coated</td>\n",
       "      <td>Oral</td>\n",
       "      <td>Bristol-myers Squibb Company</td>\n",
       "      <td>Human Prescription Drug</td>\n",
       "    </tr>\n",
       "    <tr>\n",
       "      <th>1</th>\n",
       "      <td>0087-6063</td>\n",
       "      <td>Glucophage XR</td>\n",
       "      <td>Metformin Hydrochloride</td>\n",
       "      <td>Tablet, Extended Release</td>\n",
       "      <td>Oral</td>\n",
       "      <td>Bristol-myers Squibb Company</td>\n",
       "      <td>Human Prescription Drug</td>\n",
       "    </tr>\n",
       "    <tr>\n",
       "      <th>2</th>\n",
       "      <td>0087-6064</td>\n",
       "      <td>Glucophage XR</td>\n",
       "      <td>Metformin Hydrochloride</td>\n",
       "      <td>Tablet, Extended Release</td>\n",
       "      <td>Oral</td>\n",
       "      <td>Bristol-myers Squibb Company</td>\n",
       "      <td>Human Prescription Drug</td>\n",
       "    </tr>\n",
       "    <tr>\n",
       "      <th>3</th>\n",
       "      <td>0087-6070</td>\n",
       "      <td>Glucophage</td>\n",
       "      <td>Metformin Hydrochloride</td>\n",
       "      <td>Tablet, Film Coated</td>\n",
       "      <td>Oral</td>\n",
       "      <td>Bristol-myers Squibb Company</td>\n",
       "      <td>Human Prescription Drug</td>\n",
       "    </tr>\n",
       "    <tr>\n",
       "      <th>4</th>\n",
       "      <td>0087-6071</td>\n",
       "      <td>Glucophage</td>\n",
       "      <td>Metformin Hydrochloride</td>\n",
       "      <td>Tablet, Film Coated</td>\n",
       "      <td>Oral</td>\n",
       "      <td>Bristol-myers Squibb Company</td>\n",
       "      <td>Human Prescription Drug</td>\n",
       "    </tr>\n",
       "    <tr>\n",
       "      <th>...</th>\n",
       "      <td>...</td>\n",
       "      <td>...</td>\n",
       "      <td>...</td>\n",
       "      <td>...</td>\n",
       "      <td>...</td>\n",
       "      <td>...</td>\n",
       "      <td>...</td>\n",
       "    </tr>\n",
       "    <tr>\n",
       "      <th>87</th>\n",
       "      <td>42291-610</td>\n",
       "      <td>Metformin Hydrochloride</td>\n",
       "      <td>Metformin Hydrochloride</td>\n",
       "      <td>Tablet, Extended Release</td>\n",
       "      <td>Oral</td>\n",
       "      <td>Avkare, Inc.</td>\n",
       "      <td>Human Prescription Drug</td>\n",
       "    </tr>\n",
       "    <tr>\n",
       "      <th>88</th>\n",
       "      <td>42291-611</td>\n",
       "      <td>Metformin Hydrochloride</td>\n",
       "      <td>Metformin Hydrochloride</td>\n",
       "      <td>Tablet, Extended Release</td>\n",
       "      <td>Oral</td>\n",
       "      <td>Avkare, Inc.</td>\n",
       "      <td>Human Prescription Drug</td>\n",
       "    </tr>\n",
       "    <tr>\n",
       "      <th>89</th>\n",
       "      <td>42385-902</td>\n",
       "      <td>Metformin Hydrochloride</td>\n",
       "      <td>Metformin Hydrochloride</td>\n",
       "      <td>Tablet, Film Coated</td>\n",
       "      <td>Oral</td>\n",
       "      <td>Laurus Labs Limited</td>\n",
       "      <td>Human Prescription Drug</td>\n",
       "    </tr>\n",
       "    <tr>\n",
       "      <th>90</th>\n",
       "      <td>42385-903</td>\n",
       "      <td>Metformin Hydrochloride</td>\n",
       "      <td>Metformin Hydrochloride</td>\n",
       "      <td>Tablet, Film Coated</td>\n",
       "      <td>Oral</td>\n",
       "      <td>Laurus Labs Limited</td>\n",
       "      <td>Human Prescription Drug</td>\n",
       "    </tr>\n",
       "    <tr>\n",
       "      <th>91</th>\n",
       "      <td>42385-904</td>\n",
       "      <td>Metformin Hydrochloride</td>\n",
       "      <td>Metformin Hydrochloride</td>\n",
       "      <td>Tablet, Film Coated</td>\n",
       "      <td>Oral</td>\n",
       "      <td>Laurus Labs Limited</td>\n",
       "      <td>Human Prescription Drug</td>\n",
       "    </tr>\n",
       "  </tbody>\n",
       "</table>\n",
       "<p>71 rows × 7 columns</p>\n",
       "</div>"
      ],
      "text/plain": [
       "     NDC_Code         Proprietary Name     Non-proprietary Name  \\\n",
       "0   0087-6060               Glucophage  Metformin Hydrochloride   \n",
       "1   0087-6063            Glucophage XR  Metformin Hydrochloride   \n",
       "2   0087-6064            Glucophage XR  Metformin Hydrochloride   \n",
       "3   0087-6070               Glucophage  Metformin Hydrochloride   \n",
       "4   0087-6071               Glucophage  Metformin Hydrochloride   \n",
       "..        ...                      ...                      ...   \n",
       "87  42291-610  Metformin Hydrochloride  Metformin Hydrochloride   \n",
       "88  42291-611  Metformin Hydrochloride  Metformin Hydrochloride   \n",
       "89  42385-902  Metformin Hydrochloride  Metformin Hydrochloride   \n",
       "90  42385-903  Metformin Hydrochloride  Metformin Hydrochloride   \n",
       "91  42385-904  Metformin Hydrochloride  Metformin Hydrochloride   \n",
       "\n",
       "                 Dosage Form Route Name                  Company Name  \\\n",
       "0        Tablet, Film Coated       Oral  Bristol-myers Squibb Company   \n",
       "1   Tablet, Extended Release       Oral  Bristol-myers Squibb Company   \n",
       "2   Tablet, Extended Release       Oral  Bristol-myers Squibb Company   \n",
       "3        Tablet, Film Coated       Oral  Bristol-myers Squibb Company   \n",
       "4        Tablet, Film Coated       Oral  Bristol-myers Squibb Company   \n",
       "..                       ...        ...                           ...   \n",
       "87  Tablet, Extended Release       Oral                  Avkare, Inc.   \n",
       "88  Tablet, Extended Release       Oral                  Avkare, Inc.   \n",
       "89       Tablet, Film Coated       Oral           Laurus Labs Limited   \n",
       "90       Tablet, Film Coated       Oral           Laurus Labs Limited   \n",
       "91       Tablet, Film Coated       Oral           Laurus Labs Limited   \n",
       "\n",
       "               Product Type  \n",
       "0   Human Prescription Drug  \n",
       "1   Human Prescription Drug  \n",
       "2   Human Prescription Drug  \n",
       "3   Human Prescription Drug  \n",
       "4   Human Prescription Drug  \n",
       "..                      ...  \n",
       "87  Human Prescription Drug  \n",
       "88  Human Prescription Drug  \n",
       "89  Human Prescription Drug  \n",
       "90  Human Prescription Drug  \n",
       "91  Human Prescription Drug  \n",
       "\n",
       "[71 rows x 7 columns]"
      ]
     },
     "execution_count": 117,
     "metadata": {},
     "output_type": "execute_result"
    }
   ],
   "source": [
    "ndc_code_df[(ndc_code_df['Non-proprietary Name'] == 'Metformin Hydrochloride')]"
   ]
  },
  {
   "cell_type": "code",
   "execution_count": 118,
   "metadata": {},
   "outputs": [],
   "source": [
    "import importlib\n",
    "import student_utils\n",
    "from student_utils import reduce_dimension_ndc"
   ]
  },
  {
   "cell_type": "code",
   "execution_count": 119,
   "metadata": {},
   "outputs": [],
   "source": [
    "importlib.reload(student_utils)\n",
    "reduce_dim_df = reduce_dimension_ndc(df, ndc_code_df)"
   ]
  },
  {
   "cell_type": "code",
   "execution_count": 120,
   "metadata": {},
   "outputs": [
    {
     "name": "stdout",
     "output_type": "stream",
     "text": [
      "Reduced from 251 to 22\n"
     ]
    }
   ],
   "source": [
    "# Number of unique values should be less for the new output field\n",
    "assert df['ndc_code'].nunique() > reduce_dim_df['generic_drug_name'].nunique()\n",
    "\n",
    "print(f'Reduced from {df[\"ndc_code\"].nunique()} to {reduce_dim_df[\"generic_drug_name\"].nunique()}')"
   ]
  },
  {
   "cell_type": "markdown",
   "metadata": {},
   "source": [
    "**Question 3** <font color='red'><b>Student Response</b></font>:\n",
    "\n",
    "Number of drug names reduced from 251 to 22."
   ]
  },
  {
   "cell_type": "markdown",
   "metadata": {},
   "source": [
    "## Select First Encounter for each Patient "
   ]
  },
  {
   "cell_type": "markdown",
   "metadata": {},
   "source": [
    "**Question 4**: In order to simplify the aggregation of data for the model, we will only select the first encounter for each patient in the dataset. This is to reduce the risk of data leakage of future patient encounters and to reduce complexity of the data transformation and modeling steps. We will assume that sorting in numerical order on the encounter_id provides the time horizon for determining which encounters come before and after another."
   ]
  },
  {
   "cell_type": "code",
   "execution_count": 121,
   "metadata": {},
   "outputs": [],
   "source": [
    "from student_utils import select_first_encounter\n",
    "importlib.reload(student_utils)\n",
    "\n",
    "first_encounter_df = select_first_encounter(reduce_dim_df)"
   ]
  },
  {
   "cell_type": "code",
   "execution_count": 122,
   "metadata": {},
   "outputs": [
    {
     "name": "stdout",
     "output_type": "stream",
     "text": [
      "Number of unique patients:71518\n",
      "Number of unique encounters:71518\n",
      "Tests passed!!\n"
     ]
    }
   ],
   "source": [
    "# unique patients in transformed dataset\n",
    "unique_patients = first_encounter_df['patient_nbr'].nunique()\n",
    "print(\"Number of unique patients:{}\".format(unique_patients))\n",
    "\n",
    "# unique encounters in transformed dataset\n",
    "unique_encounters = first_encounter_df['encounter_id'].nunique()\n",
    "print(\"Number of unique encounters:{}\".format(unique_encounters))\n",
    "\n",
    "original_unique_patient_number = reduce_dim_df['patient_nbr'].nunique()\n",
    "# number of unique patients should be equal to the number of unique encounters and patients in the final dataset\n",
    "assert original_unique_patient_number == unique_patients\n",
    "assert original_unique_patient_number == unique_encounters\n",
    "print(\"Tests passed!!\")"
   ]
  },
  {
   "cell_type": "markdown",
   "metadata": {},
   "source": [
    "**Question 4** <font color='red'><b>Student Response</b></font>:\n",
    "\n",
    "First encounters per patient selected"
   ]
  },
  {
   "cell_type": "markdown",
   "metadata": {},
   "source": [
    "## Aggregate Dataset to Right Level for Modeling "
   ]
  },
  {
   "cell_type": "markdown",
   "metadata": {},
   "source": [
    "In order to provide a broad scope of the steps and to prevent students from getting stuck with data transformations, we have selected the aggregation columns and provided a function to build the dataset at the appropriate level. The 'aggregate_dataset\" function that you can find in the 'utils.py' file can take the preceding dataframe with the 'generic_drug_name' field and transform the data appropriately for the project. \n",
    "\n",
    "To make it simpler for students, we are creating dummy columns for each unique generic drug name and adding those are input features to the model. There are other options for data representation but this is out of scope for the time constraints of the course."
   ]
  },
  {
   "cell_type": "code",
   "execution_count": 123,
   "metadata": {},
   "outputs": [
    {
     "name": "stderr",
     "output_type": "stream",
     "text": [
      "/home/workspace/starter_code/utils.py:10: FutureWarning: Indexing with multiple keys (implicitly converted to a tuple of keys) will be deprecated, use a list instead.\n",
      "  array_field].apply(lambda x: x[array_field].values.tolist()).reset_index().rename(columns={\n"
     ]
    }
   ],
   "source": [
    "exclusion_list = ['generic_drug_name']\n",
    "grouping_field_list = [c for c in first_encounter_df.columns if c not in exclusion_list]\n",
    "agg_drug_df, ndc_col_list = aggregate_dataset(first_encounter_df, grouping_field_list, 'generic_drug_name')"
   ]
  },
  {
   "cell_type": "code",
   "execution_count": 124,
   "metadata": {},
   "outputs": [],
   "source": [
    "assert len(agg_drug_df) == agg_drug_df['patient_nbr'].nunique() == agg_drug_df['encounter_id'].nunique()"
   ]
  },
  {
   "cell_type": "code",
   "execution_count": 125,
   "metadata": {},
   "outputs": [
    {
     "data": {
      "text/html": [
       "<div>\n",
       "<style scoped>\n",
       "    .dataframe tbody tr th:only-of-type {\n",
       "        vertical-align: middle;\n",
       "    }\n",
       "\n",
       "    .dataframe tbody tr th {\n",
       "        vertical-align: top;\n",
       "    }\n",
       "\n",
       "    .dataframe thead th {\n",
       "        text-align: right;\n",
       "    }\n",
       "</style>\n",
       "<table border=\"1\" class=\"dataframe\">\n",
       "  <thead>\n",
       "    <tr style=\"text-align: right;\">\n",
       "      <th></th>\n",
       "      <th>encounter_id</th>\n",
       "      <th>patient_nbr</th>\n",
       "      <th>race</th>\n",
       "      <th>gender</th>\n",
       "      <th>age</th>\n",
       "      <th>weight</th>\n",
       "      <th>admission_type_id</th>\n",
       "      <th>discharge_disposition_id</th>\n",
       "      <th>admission_source_id</th>\n",
       "      <th>time_in_hospital</th>\n",
       "      <th>payer_code</th>\n",
       "      <th>medical_specialty</th>\n",
       "      <th>primary_diagnosis_code</th>\n",
       "      <th>other_diagnosis_codes</th>\n",
       "      <th>number_outpatient</th>\n",
       "      <th>number_inpatient</th>\n",
       "      <th>number_emergency</th>\n",
       "      <th>num_lab_procedures</th>\n",
       "      <th>number_diagnoses</th>\n",
       "      <th>num_medications</th>\n",
       "      <th>num_procedures</th>\n",
       "      <th>ndc_code</th>\n",
       "      <th>max_glu_serum</th>\n",
       "      <th>A1Cresult</th>\n",
       "      <th>change</th>\n",
       "      <th>readmitted</th>\n",
       "      <th>NDC_Code</th>\n",
       "      <th>generic_drug_name_array</th>\n",
       "      <th>Acarbose</th>\n",
       "      <th>Glimepiride</th>\n",
       "      <th>Glipizide</th>\n",
       "      <th>Glipizide_And_Metformin_Hcl</th>\n",
       "      <th>Glipizide_And_Metformin_Hydrochloride</th>\n",
       "      <th>Glyburide</th>\n",
       "      <th>Glyburide_And_Metformin_Hydrochloride</th>\n",
       "      <th>Glyburide-metformin_Hydrochloride</th>\n",
       "      <th>Human_Insulin</th>\n",
       "      <th>Insulin_Human</th>\n",
       "      <th>Metformin_Hcl</th>\n",
       "      <th>Metformin_Hydrochloride</th>\n",
       "      <th>Miglitol</th>\n",
       "      <th>Nateglinide</th>\n",
       "      <th>Pioglitazone</th>\n",
       "      <th>Pioglitazone_Hydrochloride_And_Glimepiride</th>\n",
       "      <th>Repaglinide</th>\n",
       "      <th>Rosiglitazone_Maleate</th>\n",
       "      <th>Tolazamide</th>\n",
       "      <th>Tolbutamide</th>\n",
       "    </tr>\n",
       "  </thead>\n",
       "  <tbody>\n",
       "    <tr>\n",
       "      <th>0</th>\n",
       "      <td>12522</td>\n",
       "      <td>48330783</td>\n",
       "      <td>Caucasian</td>\n",
       "      <td>Female</td>\n",
       "      <td>[80-90)</td>\n",
       "      <td>?</td>\n",
       "      <td>2</td>\n",
       "      <td>1</td>\n",
       "      <td>4</td>\n",
       "      <td>13</td>\n",
       "      <td>?</td>\n",
       "      <td>?</td>\n",
       "      <td>398</td>\n",
       "      <td>427|38</td>\n",
       "      <td>0</td>\n",
       "      <td>0</td>\n",
       "      <td>0</td>\n",
       "      <td>68</td>\n",
       "      <td>8</td>\n",
       "      <td>28</td>\n",
       "      <td>2</td>\n",
       "      <td>47918-902</td>\n",
       "      <td>None</td>\n",
       "      <td>None</td>\n",
       "      <td>Ch</td>\n",
       "      <td>NO</td>\n",
       "      <td>47918-902</td>\n",
       "      <td>[Insulin Human]</td>\n",
       "      <td>0</td>\n",
       "      <td>0</td>\n",
       "      <td>0</td>\n",
       "      <td>0</td>\n",
       "      <td>0</td>\n",
       "      <td>0</td>\n",
       "      <td>0</td>\n",
       "      <td>0</td>\n",
       "      <td>0</td>\n",
       "      <td>1</td>\n",
       "      <td>0</td>\n",
       "      <td>0</td>\n",
       "      <td>0</td>\n",
       "      <td>0</td>\n",
       "      <td>0</td>\n",
       "      <td>0</td>\n",
       "      <td>0</td>\n",
       "      <td>0</td>\n",
       "      <td>0</td>\n",
       "      <td>0</td>\n",
       "    </tr>\n",
       "    <tr>\n",
       "      <th>1</th>\n",
       "      <td>15738</td>\n",
       "      <td>63555939</td>\n",
       "      <td>Caucasian</td>\n",
       "      <td>Female</td>\n",
       "      <td>[90-100)</td>\n",
       "      <td>?</td>\n",
       "      <td>3</td>\n",
       "      <td>3</td>\n",
       "      <td>4</td>\n",
       "      <td>12</td>\n",
       "      <td>?</td>\n",
       "      <td>InternalMedicine</td>\n",
       "      <td>434</td>\n",
       "      <td>198|486</td>\n",
       "      <td>0</td>\n",
       "      <td>0</td>\n",
       "      <td>0</td>\n",
       "      <td>33</td>\n",
       "      <td>8</td>\n",
       "      <td>18</td>\n",
       "      <td>3</td>\n",
       "      <td>68071-1701</td>\n",
       "      <td>None</td>\n",
       "      <td>None</td>\n",
       "      <td>Ch</td>\n",
       "      <td>NO</td>\n",
       "      <td>68071-1701</td>\n",
       "      <td>[Human Insulin]</td>\n",
       "      <td>0</td>\n",
       "      <td>0</td>\n",
       "      <td>0</td>\n",
       "      <td>0</td>\n",
       "      <td>0</td>\n",
       "      <td>0</td>\n",
       "      <td>0</td>\n",
       "      <td>0</td>\n",
       "      <td>1</td>\n",
       "      <td>0</td>\n",
       "      <td>0</td>\n",
       "      <td>0</td>\n",
       "      <td>0</td>\n",
       "      <td>0</td>\n",
       "      <td>0</td>\n",
       "      <td>0</td>\n",
       "      <td>0</td>\n",
       "      <td>0</td>\n",
       "      <td>0</td>\n",
       "      <td>0</td>\n",
       "    </tr>\n",
       "    <tr>\n",
       "      <th>2</th>\n",
       "      <td>16680</td>\n",
       "      <td>42519267</td>\n",
       "      <td>Caucasian</td>\n",
       "      <td>Male</td>\n",
       "      <td>[40-50)</td>\n",
       "      <td>?</td>\n",
       "      <td>1</td>\n",
       "      <td>1</td>\n",
       "      <td>7</td>\n",
       "      <td>1</td>\n",
       "      <td>?</td>\n",
       "      <td>?</td>\n",
       "      <td>197</td>\n",
       "      <td>157|250</td>\n",
       "      <td>0</td>\n",
       "      <td>0</td>\n",
       "      <td>0</td>\n",
       "      <td>51</td>\n",
       "      <td>5</td>\n",
       "      <td>8</td>\n",
       "      <td>0</td>\n",
       "      <td>0049-4110</td>\n",
       "      <td>None</td>\n",
       "      <td>None</td>\n",
       "      <td>Ch</td>\n",
       "      <td>NO</td>\n",
       "      <td>0049-4110</td>\n",
       "      <td>[Glipizide]</td>\n",
       "      <td>0</td>\n",
       "      <td>0</td>\n",
       "      <td>1</td>\n",
       "      <td>0</td>\n",
       "      <td>0</td>\n",
       "      <td>0</td>\n",
       "      <td>0</td>\n",
       "      <td>0</td>\n",
       "      <td>0</td>\n",
       "      <td>0</td>\n",
       "      <td>0</td>\n",
       "      <td>0</td>\n",
       "      <td>0</td>\n",
       "      <td>0</td>\n",
       "      <td>0</td>\n",
       "      <td>0</td>\n",
       "      <td>0</td>\n",
       "      <td>0</td>\n",
       "      <td>0</td>\n",
       "      <td>0</td>\n",
       "    </tr>\n",
       "    <tr>\n",
       "      <th>3</th>\n",
       "      <td>28236</td>\n",
       "      <td>89869032</td>\n",
       "      <td>AfricanAmerican</td>\n",
       "      <td>Female</td>\n",
       "      <td>[40-50)</td>\n",
       "      <td>?</td>\n",
       "      <td>1</td>\n",
       "      <td>1</td>\n",
       "      <td>7</td>\n",
       "      <td>9</td>\n",
       "      <td>?</td>\n",
       "      <td>?</td>\n",
       "      <td>250.7</td>\n",
       "      <td>403|996</td>\n",
       "      <td>0</td>\n",
       "      <td>0</td>\n",
       "      <td>0</td>\n",
       "      <td>47</td>\n",
       "      <td>9</td>\n",
       "      <td>17</td>\n",
       "      <td>2</td>\n",
       "      <td>68071-1701</td>\n",
       "      <td>None</td>\n",
       "      <td>None</td>\n",
       "      <td>No</td>\n",
       "      <td>&gt;30</td>\n",
       "      <td>68071-1701</td>\n",
       "      <td>[Human Insulin]</td>\n",
       "      <td>0</td>\n",
       "      <td>0</td>\n",
       "      <td>0</td>\n",
       "      <td>0</td>\n",
       "      <td>0</td>\n",
       "      <td>0</td>\n",
       "      <td>0</td>\n",
       "      <td>0</td>\n",
       "      <td>1</td>\n",
       "      <td>0</td>\n",
       "      <td>0</td>\n",
       "      <td>0</td>\n",
       "      <td>0</td>\n",
       "      <td>0</td>\n",
       "      <td>0</td>\n",
       "      <td>0</td>\n",
       "      <td>0</td>\n",
       "      <td>0</td>\n",
       "      <td>0</td>\n",
       "      <td>0</td>\n",
       "    </tr>\n",
       "    <tr>\n",
       "      <th>4</th>\n",
       "      <td>35754</td>\n",
       "      <td>82637451</td>\n",
       "      <td>Caucasian</td>\n",
       "      <td>Male</td>\n",
       "      <td>[50-60)</td>\n",
       "      <td>?</td>\n",
       "      <td>2</td>\n",
       "      <td>1</td>\n",
       "      <td>2</td>\n",
       "      <td>3</td>\n",
       "      <td>?</td>\n",
       "      <td>?</td>\n",
       "      <td>414</td>\n",
       "      <td>411|250</td>\n",
       "      <td>0</td>\n",
       "      <td>0</td>\n",
       "      <td>0</td>\n",
       "      <td>31</td>\n",
       "      <td>9</td>\n",
       "      <td>16</td>\n",
       "      <td>6</td>\n",
       "      <td>47918-902</td>\n",
       "      <td>None</td>\n",
       "      <td>None</td>\n",
       "      <td>No</td>\n",
       "      <td>&gt;30</td>\n",
       "      <td>47918-902</td>\n",
       "      <td>[Insulin Human]</td>\n",
       "      <td>0</td>\n",
       "      <td>0</td>\n",
       "      <td>0</td>\n",
       "      <td>0</td>\n",
       "      <td>0</td>\n",
       "      <td>0</td>\n",
       "      <td>0</td>\n",
       "      <td>0</td>\n",
       "      <td>0</td>\n",
       "      <td>1</td>\n",
       "      <td>0</td>\n",
       "      <td>0</td>\n",
       "      <td>0</td>\n",
       "      <td>0</td>\n",
       "      <td>0</td>\n",
       "      <td>0</td>\n",
       "      <td>0</td>\n",
       "      <td>0</td>\n",
       "      <td>0</td>\n",
       "      <td>0</td>\n",
       "    </tr>\n",
       "  </tbody>\n",
       "</table>\n",
       "</div>"
      ],
      "text/plain": [
       "   encounter_id  patient_nbr             race  gender       age weight  \\\n",
       "0         12522     48330783        Caucasian  Female   [80-90)      ?   \n",
       "1         15738     63555939        Caucasian  Female  [90-100)      ?   \n",
       "2         16680     42519267        Caucasian    Male   [40-50)      ?   \n",
       "3         28236     89869032  AfricanAmerican  Female   [40-50)      ?   \n",
       "4         35754     82637451        Caucasian    Male   [50-60)      ?   \n",
       "\n",
       "   admission_type_id  discharge_disposition_id  admission_source_id  \\\n",
       "0                  2                         1                    4   \n",
       "1                  3                         3                    4   \n",
       "2                  1                         1                    7   \n",
       "3                  1                         1                    7   \n",
       "4                  2                         1                    2   \n",
       "\n",
       "   time_in_hospital payer_code medical_specialty primary_diagnosis_code  \\\n",
       "0                13          ?                 ?                    398   \n",
       "1                12          ?  InternalMedicine                    434   \n",
       "2                 1          ?                 ?                    197   \n",
       "3                 9          ?                 ?                  250.7   \n",
       "4                 3          ?                 ?                    414   \n",
       "\n",
       "  other_diagnosis_codes  number_outpatient  number_inpatient  \\\n",
       "0                427|38                  0                 0   \n",
       "1               198|486                  0                 0   \n",
       "2               157|250                  0                 0   \n",
       "3               403|996                  0                 0   \n",
       "4               411|250                  0                 0   \n",
       "\n",
       "   number_emergency  num_lab_procedures  number_diagnoses  num_medications  \\\n",
       "0                 0                  68                 8               28   \n",
       "1                 0                  33                 8               18   \n",
       "2                 0                  51                 5                8   \n",
       "3                 0                  47                 9               17   \n",
       "4                 0                  31                 9               16   \n",
       "\n",
       "   num_procedures    ndc_code max_glu_serum A1Cresult change readmitted  \\\n",
       "0               2   47918-902          None      None     Ch         NO   \n",
       "1               3  68071-1701          None      None     Ch         NO   \n",
       "2               0   0049-4110          None      None     Ch         NO   \n",
       "3               2  68071-1701          None      None     No        >30   \n",
       "4               6   47918-902          None      None     No        >30   \n",
       "\n",
       "     NDC_Code generic_drug_name_array  Acarbose  Glimepiride  Glipizide  \\\n",
       "0   47918-902         [Insulin Human]         0            0          0   \n",
       "1  68071-1701         [Human Insulin]         0            0          0   \n",
       "2   0049-4110             [Glipizide]         0            0          1   \n",
       "3  68071-1701         [Human Insulin]         0            0          0   \n",
       "4   47918-902         [Insulin Human]         0            0          0   \n",
       "\n",
       "   Glipizide_And_Metformin_Hcl  Glipizide_And_Metformin_Hydrochloride  \\\n",
       "0                            0                                      0   \n",
       "1                            0                                      0   \n",
       "2                            0                                      0   \n",
       "3                            0                                      0   \n",
       "4                            0                                      0   \n",
       "\n",
       "   Glyburide  Glyburide_And_Metformin_Hydrochloride  \\\n",
       "0          0                                      0   \n",
       "1          0                                      0   \n",
       "2          0                                      0   \n",
       "3          0                                      0   \n",
       "4          0                                      0   \n",
       "\n",
       "   Glyburide-metformin_Hydrochloride  Human_Insulin  Insulin_Human  \\\n",
       "0                                  0              0              1   \n",
       "1                                  0              1              0   \n",
       "2                                  0              0              0   \n",
       "3                                  0              1              0   \n",
       "4                                  0              0              1   \n",
       "\n",
       "   Metformin_Hcl  Metformin_Hydrochloride  Miglitol  Nateglinide  \\\n",
       "0              0                        0         0            0   \n",
       "1              0                        0         0            0   \n",
       "2              0                        0         0            0   \n",
       "3              0                        0         0            0   \n",
       "4              0                        0         0            0   \n",
       "\n",
       "   Pioglitazone  Pioglitazone_Hydrochloride_And_Glimepiride  Repaglinide  \\\n",
       "0             0                                           0            0   \n",
       "1             0                                           0            0   \n",
       "2             0                                           0            0   \n",
       "3             0                                           0            0   \n",
       "4             0                                           0            0   \n",
       "\n",
       "   Rosiglitazone_Maleate  Tolazamide  Tolbutamide  \n",
       "0                      0           0            0  \n",
       "1                      0           0            0  \n",
       "2                      0           0            0  \n",
       "3                      0           0            0  \n",
       "4                      0           0            0  "
      ]
     },
     "execution_count": 125,
     "metadata": {},
     "output_type": "execute_result"
    }
   ],
   "source": [
    "agg_drug_df.head()"
   ]
  },
  {
   "cell_type": "markdown",
   "metadata": {},
   "source": [
    "## Prepare Fields and Cast Dataset "
   ]
  },
  {
   "cell_type": "markdown",
   "metadata": {},
   "source": [
    "### Feature Selection"
   ]
  },
  {
   "cell_type": "markdown",
   "metadata": {},
   "source": [
    "**Question 5**: After you have aggregated the dataset to the right level, we can do feature selection (we will include the ndc_col_list, dummy column features too). In the block below, please select the categorical and numerical features that you will use for the model, so that we can create a dataset subset. \n",
    "\n",
    "For the payer_code and weight fields, please provide whether you think we should include/exclude the field in our model and give a justification/rationale for this based off of the statistics of the data. Feel free to use visualizations or summary statistics to support your choice."
   ]
  },
  {
   "cell_type": "code",
   "execution_count": 126,
   "metadata": {},
   "outputs": [],
   "source": [
    "def show_hist(col, bins=None):\n",
    "    if bins is None:\n",
    "        df[col].hist(bins=df[col].nunique())\n",
    "    else:\n",
    "        df[col].hist(bins=bins)"
   ]
  },
  {
   "cell_type": "code",
   "execution_count": 127,
   "metadata": {
    "scrolled": true
   },
   "outputs": [
    {
     "data": {
      "image/png": "[encoded data removed]",
      "text/plain": [
       "<Figure size 432x288 with 1 Axes>"
      ]
     },
     "metadata": {
      "needs_background": "light"
     },
     "output_type": "display_data"
    }
   ],
   "source": [
    "show_hist('admission_type_id')"
   ]
  },
  {
   "cell_type": "code",
   "execution_count": 128,
   "metadata": {
    "scrolled": true
   },
   "outputs": [
    {
     "data": {
      "image/png": "[encoded data removed]",
      "text/plain": [
       "<Figure size 432x288 with 1 Axes>"
      ]
     },
     "metadata": {
      "needs_background": "light"
     },
     "output_type": "display_data"
    }
   ],
   "source": [
    "show_hist('discharge_disposition_id')"
   ]
  },
  {
   "cell_type": "code",
   "execution_count": 129,
   "metadata": {
    "scrolled": true
   },
   "outputs": [
    {
     "data": {
      "image/png": "[encoded data removed]",
      "text/plain": [
       "<Figure size 432x288 with 1 Axes>"
      ]
     },
     "metadata": {
      "needs_background": "light"
     },
     "output_type": "display_data"
    }
   ],
   "source": [
    "show_hist('admission_source_id')"
   ]
  },
  {
   "cell_type": "code",
   "execution_count": 130,
   "metadata": {
    "scrolled": true
   },
   "outputs": [
    {
     "data": {
      "image/png": "[encoded data removed]",
      "text/plain": [
       "<Figure size 432x288 with 1 Axes>"
      ]
     },
     "metadata": {
      "needs_background": "light"
     },
     "output_type": "display_data"
    }
   ],
   "source": [
    "show_hist('number_outpatient')"
   ]
  },
  {
   "cell_type": "code",
   "execution_count": 131,
   "metadata": {
    "scrolled": true
   },
   "outputs": [
    {
     "data": {
      "image/png": "[encoded data removed]",
      "text/plain": [
       "<Figure size 432x288 with 1 Axes>"
      ]
     },
     "metadata": {
      "needs_background": "light"
     },
     "output_type": "display_data"
    }
   ],
   "source": [
    "show_hist('number_inpatient')"
   ]
  },
  {
   "cell_type": "code",
   "execution_count": 132,
   "metadata": {
    "scrolled": true
   },
   "outputs": [
    {
     "data": {
      "image/png": "[encoded data removed]",
      "text/plain": [
       "<Figure size 432x288 with 1 Axes>"
      ]
     },
     "metadata": {
      "needs_background": "light"
     },
     "output_type": "display_data"
    }
   ],
   "source": [
    "show_hist('number_emergency')"
   ]
  },
  {
   "cell_type": "code",
   "execution_count": 133,
   "metadata": {
    "scrolled": true
   },
   "outputs": [
    {
     "data": {
      "image/png": "[encoded data removed]",
      "text/plain": [
       "<Figure size 432x288 with 1 Axes>"
      ]
     },
     "metadata": {
      "needs_background": "light"
     },
     "output_type": "display_data"
    }
   ],
   "source": [
    "show_hist('num_lab_procedures')"
   ]
  },
  {
   "cell_type": "code",
   "execution_count": 134,
   "metadata": {
    "scrolled": true
   },
   "outputs": [
    {
     "data": {
      "image/png": "[encoded data removed]",
      "text/plain": [
       "<Figure size 432x288 with 1 Axes>"
      ]
     },
     "metadata": {
      "needs_background": "light"
     },
     "output_type": "display_data"
    }
   ],
   "source": [
    "show_hist('number_diagnoses')"
   ]
  },
  {
   "cell_type": "code",
   "execution_count": 135,
   "metadata": {
    "scrolled": true
   },
   "outputs": [
    {
     "data": {
      "image/png": "[encoded data removed]",
      "text/plain": [
       "<Figure size 432x288 with 1 Axes>"
      ]
     },
     "metadata": {
      "needs_background": "light"
     },
     "output_type": "display_data"
    }
   ],
   "source": [
    "show_hist('num_procedures')"
   ]
  },
  {
   "cell_type": "code",
   "execution_count": 136,
   "metadata": {
    "scrolled": true
   },
   "outputs": [
    {
     "data": {
      "image/png": "[encoded data removed]",
      "text/plain": [
       "<Figure size 432x288 with 1 Axes>"
      ]
     },
     "metadata": {
      "needs_background": "light"
     },
     "output_type": "display_data"
    }
   ],
   "source": [
    "show_hist('num_medications')"
   ]
  },
  {
   "cell_type": "code",
   "execution_count": 137,
   "metadata": {
    "scrolled": true
   },
   "outputs": [
    {
     "data": {
      "image/png": "[encoded data removed]",
      "text/plain": [
       "<Figure size 432x288 with 1 Axes>"
      ]
     },
     "metadata": {
      "needs_background": "light"
     },
     "output_type": "display_data"
    }
   ],
   "source": [
    "show_hist('change')"
   ]
  },
  {
   "cell_type": "code",
   "execution_count": 138,
   "metadata": {
    "scrolled": true
   },
   "outputs": [
    {
     "data": {
      "image/png": "[encoded data removed]",
      "text/plain": [
       "<Figure size 432x288 with 1 Axes>"
      ]
     },
     "metadata": {
      "needs_background": "light"
     },
     "output_type": "display_data"
    }
   ],
   "source": [
    "show_hist('readmitted')"
   ]
  },
  {
   "cell_type": "code",
   "execution_count": 139,
   "metadata": {
    "scrolled": true
   },
   "outputs": [
    {
     "data": {
      "image/png": "[encoded data removed]",
      "text/plain": [
       "<Figure size 432x288 with 1 Axes>"
      ]
     },
     "metadata": {
      "needs_background": "light"
     },
     "output_type": "display_data"
    }
   ],
   "source": [
    "show_hist('payer_code')"
   ]
  },
  {
   "cell_type": "code",
   "execution_count": 140,
   "metadata": {
    "scrolled": true
   },
   "outputs": [],
   "source": [
    "def show_hist2(col):\n",
    "    primary_diagnosis_num = []\n",
    "    primary_diagnosis_values = df[col].unique()\n",
    "    for v in primary_diagnosis_values:\n",
    "        n = len(df[df[col] == v])\n",
    "        primary_diagnosis_num.append(n)\n",
    "    plt.plot(primary_diagnosis_values, primary_diagnosis_num)"
   ]
  },
  {
   "cell_type": "code",
   "execution_count": 141,
   "metadata": {},
   "outputs": [
    {
     "data": {
      "image/png": "[encoded data removed]",
      "text/plain": [
       "<Figure size 432x288 with 1 Axes>"
      ]
     },
     "metadata": {
      "needs_background": "light"
     },
     "output_type": "display_data"
    }
   ],
   "source": [
    "show_hist2('primary_diagnosis_code')"
   ]
  },
  {
   "cell_type": "code",
   "execution_count": 142,
   "metadata": {},
   "outputs": [],
   "source": [
    "# show_hist2('other_diagnosis_codes')"
   ]
  },
  {
   "cell_type": "markdown",
   "metadata": {},
   "source": [
    "**Question 5** <font color='red'><b>Student Response</b></font>:\n",
    "\n",
    "Next, we look at which of the initial features should be included (unless specified, feature is not included):\n",
    "\n",
    "* encounter_id \n",
    "* patient_nbr\n",
    "* **race** - include, as different races may have different nutritional patterns which could have an effect\n",
    "* **gender** - include, as some functions of the body are different for males and females\n",
    "* **age** - include, as age definitely has an effect on how the body reacts to drugs\n",
    "* weight - exclude, 97% data is missing\n",
    "* admission_type_id - exclude, non-normal and non-uniform distribution\n",
    "* discharge_disposition_id - exclude, non-normal and non-uniform distribution\n",
    "* admission_source_id - exclude, non-normal and non-uniform distribution\n",
    "* **time_in_hospital** - PREDICTOR_FIELD\n",
    "* payer_code - exclude, 37.7% of data is missing, the rest 62.3% non-normal and non-uniform distribution, with half of non-missing data having one particular value.\n",
    "* medical_specialty - exclude, almost 50% of data is missing\n",
    "* **primary_diagnosis_code** - include, the distribution resembles normal (if codes properly re-arranges on the graph)\n",
    "* **other_diagnosis_codes** - include\n",
    "* number_outpatient - exclude, non-normal and non-uniform distribution\n",
    "* number_inpatient - exclude, non-normal and non-uniform distribution\n",
    "* number_emergency - exclude, non-normal and non-uniform distribution\n",
    "* **num_lab_procedures** - include, normal distribution\n",
    "* number_diagnoses - exclude, non-normal and non-uniform distribution\n",
    "* **num_medications** - include, normal distribution\n",
    "* num_procedures - exclude, non-normal and non-uniform distribution\n",
    "* ndc_code - do not include, use one-hot encoding of the generic drugs\n",
    "* max_glu_serum - exclude, 95% of data is missing\n",
    "* A1Cresult - exclude, 82% of data is missing\n",
    "* change - exclude, non-normal and non-uniform distribution\n",
    "* readmitted - exclude, non-normal and non-uniform distribution\n"
   ]
  },
  {
   "cell_type": "code",
   "execution_count": 143,
   "metadata": {},
   "outputs": [],
   "source": [
    "'''\n",
    "Please update the list to include the features you think are appropriate for the model \n",
    "and the field that we will be using to train the model. There are three required demographic features for the model \n",
    "and I have inserted a list with them already in the categorical list. \n",
    "These will be required for later steps when analyzing data splits and model biases.\n",
    "'''\n",
    "required_demo_col_list = ['race', 'gender', 'age']\n",
    "student_categorical_col_list = [\"primary_diagnosis_code\", \"other_diagnosis_codes\"] + required_demo_col_list + ndc_col_list\n",
    "student_numerical_col_list = [\"num_lab_procedures\", \"num_medications\"]\n",
    "PREDICTOR_FIELD = 'time_in_hospital'"
   ]
  },
  {
   "cell_type": "code",
   "execution_count": 144,
   "metadata": {},
   "outputs": [],
   "source": [
    "def select_model_features(df, categorical_col_list, numerical_col_list, PREDICTOR_FIELD, grouping_key='patient_nbr'):\n",
    "    selected_col_list = [grouping_key] + [PREDICTOR_FIELD] + categorical_col_list + numerical_col_list   \n",
    "    return agg_drug_df[selected_col_list]\n"
   ]
  },
  {
   "cell_type": "code",
   "execution_count": 145,
   "metadata": {},
   "outputs": [],
   "source": [
    "selected_features_df = select_model_features(agg_drug_df, student_categorical_col_list, student_numerical_col_list,\n",
    "                                            PREDICTOR_FIELD)"
   ]
  },
  {
   "cell_type": "markdown",
   "metadata": {},
   "source": [
    "### Preprocess Dataset - Casting and Imputing  "
   ]
  },
  {
   "cell_type": "markdown",
   "metadata": {},
   "source": [
    "We will cast and impute the dataset before splitting so that we do not have to repeat these steps across the splits in the next step. For imputing, there can be deeper analysis into which features to impute and how to impute but for the sake of time, we are taking a general strategy of imputing zero for only numerical features. \n",
    "\n",
    "OPTIONAL: What are some potential issues with this approach? Can you recommend a better way and also implement it?"
   ]
  },
  {
   "cell_type": "code",
   "execution_count": 146,
   "metadata": {},
   "outputs": [
    {
     "name": "stderr",
     "output_type": "stream",
     "text": [
      "/home/workspace/starter_code/utils.py:29: SettingWithCopyWarning: \n",
      "A value is trying to be set on a copy of a slice from a DataFrame.\n",
      "Try using .loc[row_indexer,col_indexer] = value instead\n",
      "\n",
      "See the caveats in the documentation: https://pandas.pydata.org/pandas-docs/stable/user_guide/indexing.html#returning-a-view-versus-a-copy\n",
      "  df[predictor] = df[predictor].astype(float)\n",
      "/home/workspace/starter_code/utils.py:31: SettingWithCopyWarning: \n",
      "A value is trying to be set on a copy of a slice from a DataFrame.\n",
      "Try using .loc[row_indexer,col_indexer] = value instead\n",
      "\n",
      "See the caveats in the documentation: https://pandas.pydata.org/pandas-docs/stable/user_guide/indexing.html#returning-a-view-versus-a-copy\n",
      "  df[c] = cast_df(df, c, d_type=str)\n",
      "/home/workspace/starter_code/utils.py:33: SettingWithCopyWarning: \n",
      "A value is trying to be set on a copy of a slice from a DataFrame.\n",
      "Try using .loc[row_indexer,col_indexer] = value instead\n",
      "\n",
      "See the caveats in the documentation: https://pandas.pydata.org/pandas-docs/stable/user_guide/indexing.html#returning-a-view-versus-a-copy\n",
      "  df[numerical_column] = impute_df(df, numerical_column, numerical_impute_value)\n"
     ]
    }
   ],
   "source": [
    "processed_df = preprocess_df(selected_features_df, student_categorical_col_list, \n",
    "        student_numerical_col_list, PREDICTOR_FIELD, categorical_impute_value='nan', numerical_impute_value=0)"
   ]
  },
  {
   "cell_type": "markdown",
   "metadata": {},
   "source": [
    "## Split Dataset into Train, Validation, and Test Partitions"
   ]
  },
  {
   "cell_type": "markdown",
   "metadata": {},
   "source": [
    "**Question 6**: In order to prepare the data for being trained and evaluated by a deep learning model, we will split the dataset into three partitions, with the validation partition used for optimizing the model hyperparameters during training. One of the key parts is that we need to sure that \n",
    "\n",
    "Please complete the function below to split the input dataset into three partitions(train, validation, test) with the following requirements.\n",
    "- Approximately 60%/20%/20%  train/validation/test split\n",
    "- Randomly sample different patients into each data partition\n",
    "- **IMPORTANT** Make sure that a patient's data is not in more than one partition, so that we can avoid possible data leakage.\n",
    "- Make sure that the total number of unique patients across the splits is equal to the total number of unique patients in the original dataset\n",
    "- Total number of rows in original dataset = sum of rows across all three dataset partitions"
   ]
  },
  {
   "cell_type": "code",
   "execution_count": 147,
   "metadata": {},
   "outputs": [],
   "source": [
    "from student_utils import patient_dataset_splitter\n",
    "d_train, d_val, d_test = patient_dataset_splitter(processed_df, 'patient_nbr')"
   ]
  },
  {
   "cell_type": "code",
   "execution_count": 148,
   "metadata": {},
   "outputs": [],
   "source": [
    "d_train, d_val, d_test = patient_dataset_splitter(processed_df, 'patient_nbr')"
   ]
  },
  {
   "cell_type": "code",
   "execution_count": 149,
   "metadata": {},
   "outputs": [
    {
     "name": "stdout",
     "output_type": "stream",
     "text": [
      "Test passed for number of total rows equal!\n"
     ]
    }
   ],
   "source": [
    "assert len(d_train) + len(d_val) + len(d_test) == len(processed_df)\n",
    "print(\"Test passed for number of total rows equal!\")"
   ]
  },
  {
   "cell_type": "code",
   "execution_count": 150,
   "metadata": {
    "scrolled": true
   },
   "outputs": [
    {
     "name": "stdout",
     "output_type": "stream",
     "text": [
      "Test passed for number of unique patients being equal!\n"
     ]
    }
   ],
   "source": [
    "assert (d_train['patient_nbr'].nunique() + d_val['patient_nbr'].nunique() + d_test['patient_nbr'].nunique()) == agg_drug_df['patient_nbr'].nunique()\n",
    "print(\"Test passed for number of unique patients being equal!\")"
   ]
  },
  {
   "cell_type": "code",
   "execution_count": 151,
   "metadata": {},
   "outputs": [
    {
     "name": "stdout",
     "output_type": "stream",
     "text": [
      "Train/Validation/Test number of records: 32562/10854/10855\n"
     ]
    }
   ],
   "source": [
    "print(f'Train/Validation/Test number of records: {len(d_train)}/{len(d_val)}/{len(d_test)}')"
   ]
  },
  {
   "cell_type": "markdown",
   "metadata": {},
   "source": [
    "**Question 6** <font color='red'><b>Student Response</b></font>:\n",
    "\n",
    "Data split between train/validation/test sets approx. 60%/20%/20% with number of records: 32562/10854/10855"
   ]
  },
  {
   "cell_type": "markdown",
   "metadata": {},
   "source": [
    "## Demographic Representation Analysis of Split"
   ]
  },
  {
   "cell_type": "markdown",
   "metadata": {},
   "source": [
    "After the split, we should check to see the distribution of key features/groups and make sure that there is representative samples across the partitions. The show_group_stats_viz function in the utils.py file can be used to group and visualize different groups and dataframe partitions."
   ]
  },
  {
   "cell_type": "markdown",
   "metadata": {},
   "source": [
    "### Label Distribution Across Partitions"
   ]
  },
  {
   "cell_type": "markdown",
   "metadata": {},
   "source": [
    "Below you can see the distributution of the label across your splits. Are the histogram distribution shapes similar across partitions?"
   ]
  },
  {
   "cell_type": "code",
   "execution_count": 152,
   "metadata": {},
   "outputs": [
    {
     "name": "stdout",
     "output_type": "stream",
     "text": [
      "time_in_hospital\n",
      "1.0     7318\n",
      "2.0     9191\n",
      "3.0     9740\n",
      "4.0     7417\n",
      "5.0     5348\n",
      "6.0     3991\n",
      "7.0     3123\n",
      "8.0     2311\n",
      "9.0     1597\n",
      "10.0    1241\n",
      "11.0    1008\n",
      "12.0     783\n",
      "13.0     663\n",
      "14.0     540\n",
      "dtype: int64\n",
      "AxesSubplot(0.125,0.125;0.775x0.755)\n"
     ]
    },
    {
     "data": {
      "image/png": "[encoded data removed]",
      "text/plain": [
       "<Figure size 432x288 with 1 Axes>"
      ]
     },
     "metadata": {
      "needs_background": "light"
     },
     "output_type": "display_data"
    }
   ],
   "source": [
    "show_group_stats_viz(processed_df, PREDICTOR_FIELD)"
   ]
  },
  {
   "cell_type": "code",
   "execution_count": 153,
   "metadata": {},
   "outputs": [
    {
     "name": "stdout",
     "output_type": "stream",
     "text": [
      "time_in_hospital\n",
      "1.0     4391\n",
      "2.0     5514\n",
      "3.0     5844\n",
      "4.0     4450\n",
      "5.0     3209\n",
      "6.0     2394\n",
      "7.0     1874\n",
      "8.0     1386\n",
      "9.0      958\n",
      "10.0     745\n",
      "11.0     605\n",
      "12.0     470\n",
      "13.0     398\n",
      "14.0     324\n",
      "dtype: int64\n",
      "AxesSubplot(0.125,0.125;0.775x0.755)\n"
     ]
    },
    {
     "data": {
      "image/png": "[encoded data removed]",
      "text/plain": [
       "<Figure size 432x288 with 1 Axes>"
      ]
     },
     "metadata": {
      "needs_background": "light"
     },
     "output_type": "display_data"
    }
   ],
   "source": [
    "show_group_stats_viz(d_train, PREDICTOR_FIELD)"
   ]
  },
  {
   "cell_type": "code",
   "execution_count": 154,
   "metadata": {
    "scrolled": true
   },
   "outputs": [
    {
     "name": "stdout",
     "output_type": "stream",
     "text": [
      "time_in_hospital\n",
      "1.0     1464\n",
      "2.0     1839\n",
      "3.0     1948\n",
      "4.0     1484\n",
      "5.0     1070\n",
      "6.0      799\n",
      "7.0      625\n",
      "8.0      462\n",
      "9.0      319\n",
      "10.0     248\n",
      "11.0     201\n",
      "12.0     156\n",
      "13.0     132\n",
      "14.0     108\n",
      "dtype: int64\n",
      "AxesSubplot(0.125,0.125;0.775x0.755)\n"
     ]
    },
    {
     "data": {
      "image/png": "[encoded data removed]",
      "text/plain": [
       "<Figure size 432x288 with 1 Axes>"
      ]
     },
     "metadata": {
      "needs_background": "light"
     },
     "output_type": "display_data"
    }
   ],
   "source": [
    "show_group_stats_viz(d_test, PREDICTOR_FIELD)"
   ]
  },
  {
   "cell_type": "markdown",
   "metadata": {},
   "source": [
    "Distribution of predictor field is similar across train/validation/test sets."
   ]
  },
  {
   "cell_type": "markdown",
   "metadata": {},
   "source": [
    "## Demographic Group Analysis"
   ]
  },
  {
   "cell_type": "markdown",
   "metadata": {},
   "source": [
    "We should check that our partitions/splits of the dataset are similar in terms of their demographic profiles. Below you can see how we might visualize and analyze the full dataset vs. the partitions."
   ]
  },
  {
   "cell_type": "code",
   "execution_count": 155,
   "metadata": {},
   "outputs": [
    {
     "name": "stdout",
     "output_type": "stream",
     "text": [
      "gender\n",
      "Female             28572\n",
      "Male               25697\n",
      "Unknown/Invalid        2\n",
      "dtype: int64\n",
      "AxesSubplot(0.125,0.125;0.775x0.755)\n"
     ]
    },
    {
     "data": {
      "image/png": "[encoded data removed]",
      "text/plain": [
       "<Figure size 432x288 with 1 Axes>"
      ]
     },
     "metadata": {
      "needs_background": "light"
     },
     "output_type": "display_data"
    }
   ],
   "source": [
    "# Full dataset before splitting\n",
    "patient_demo_features = ['race', 'gender', 'age', 'patient_nbr']\n",
    "patient_group_analysis_df = processed_df[patient_demo_features].groupby('patient_nbr').head(1).reset_index(drop=True)\n",
    "show_group_stats_viz(patient_group_analysis_df, 'gender')"
   ]
  },
  {
   "cell_type": "code",
   "execution_count": 156,
   "metadata": {},
   "outputs": [
    {
     "name": "stdout",
     "output_type": "stream",
     "text": [
      "gender\n",
      "Female             17117\n",
      "Male               15444\n",
      "Unknown/Invalid        1\n",
      "dtype: int64\n",
      "AxesSubplot(0.125,0.125;0.775x0.755)\n"
     ]
    },
    {
     "data": {
      "image/png": "[encoded data removed]",
      "text/plain": [
       "<Figure size 432x288 with 1 Axes>"
      ]
     },
     "metadata": {
      "needs_background": "light"
     },
     "output_type": "display_data"
    }
   ],
   "source": [
    "# Training partition\n",
    "show_group_stats_viz(d_train, 'gender')"
   ]
  },
  {
   "cell_type": "code",
   "execution_count": 157,
   "metadata": {},
   "outputs": [
    {
     "name": "stdout",
     "output_type": "stream",
     "text": [
      "gender\n",
      "Female             5779\n",
      "Male               5075\n",
      "Unknown/Invalid       1\n",
      "dtype: int64\n",
      "AxesSubplot(0.125,0.125;0.775x0.755)\n"
     ]
    },
    {
     "data": {
      "image/png": "[encoded data removed]",
      "text/plain": [
       "<Figure size 432x288 with 1 Axes>"
      ]
     },
     "metadata": {
      "needs_background": "light"
     },
     "output_type": "display_data"
    }
   ],
   "source": [
    "# Test partition\n",
    "show_group_stats_viz(d_test, 'gender')"
   ]
  },
  {
   "cell_type": "markdown",
   "metadata": {},
   "source": [
    "## Convert Dataset Splits to TF Dataset"
   ]
  },
  {
   "cell_type": "markdown",
   "metadata": {},
   "source": [
    "We have provided you the function to convert the Pandas dataframe to TF tensors using the TF Dataset API. \n",
    "Please note that this is not a scalable method and for larger datasets, the 'make_csv_dataset' method is recommended -https://www.tensorflow.org/api_docs/python/tf/data/experimental/make_csv_dataset."
   ]
  },
  {
   "cell_type": "code",
   "execution_count": 158,
   "metadata": {},
   "outputs": [],
   "source": [
    "# Convert dataset from Pandas dataframes to TF dataset \n",
    "batch_size = 128\n",
    "diabetes_train_ds = df_to_dataset(d_train, PREDICTOR_FIELD, batch_size=batch_size)\n",
    "diabetes_val_ds = df_to_dataset(d_val, PREDICTOR_FIELD, batch_size=batch_size)\n",
    "diabetes_test_ds = df_to_dataset(d_test, PREDICTOR_FIELD, batch_size=batch_size)"
   ]
  },
  {
   "cell_type": "code",
   "execution_count": 159,
   "metadata": {},
   "outputs": [],
   "source": [
    "# We use this sample of the dataset to show transformations later\n",
    "diabetes_batch = next(iter(diabetes_train_ds))[0]\n",
    "def demo(feature_column, example_batch):\n",
    "    feature_layer = layers.DenseFeatures(feature_column)\n",
    "    print(feature_layer(example_batch))"
   ]
  },
  {
   "cell_type": "markdown",
   "metadata": {},
   "source": [
    "# 4. Create Categorical Features with TF Feature Columns"
   ]
  },
  {
   "cell_type": "markdown",
   "metadata": {},
   "source": [
    "## Build Vocabulary for Categorical Features"
   ]
  },
  {
   "cell_type": "markdown",
   "metadata": {},
   "source": [
    "Before we can create the TF categorical features, we must first create the vocab files with the unique values for a given field that are from the **training** dataset. Below we have provided a function that you can use that only requires providing the pandas train dataset partition and the list of the categorical columns in a list format. The output variable 'vocab_file_list' will be a list of the file paths that can be used in the next step for creating the categorical features."
   ]
  },
  {
   "cell_type": "code",
   "execution_count": 160,
   "metadata": {},
   "outputs": [],
   "source": [
    "vocab_file_list = build_vocab_files(d_train, student_categorical_col_list)"
   ]
  },
  {
   "cell_type": "markdown",
   "metadata": {},
   "source": [
    "## Create Categorical Features with Tensorflow Feature Column API"
   ]
  },
  {
   "cell_type": "markdown",
   "metadata": {},
   "source": [
    "**Question 7**: Using the vocab file list from above that was derived fromt the features you selected earlier, please create categorical features with the Tensorflow Feature Column API, https://www.tensorflow.org/api_docs/python/tf/feature_column. Below is a function to help guide you."
   ]
  },
  {
   "cell_type": "code",
   "execution_count": 161,
   "metadata": {},
   "outputs": [
    {
     "name": "stdout",
     "output_type": "stream",
     "text": [
      "INFO:tensorflow:vocabulary_size = 608 in primary_diagnosis_code is inferred from the number of elements in the vocabulary_file ./diabetes_vocab/primary_diagnosis_code_vocab.txt.\n"
     ]
    },
    {
     "name": "stderr",
     "output_type": "stream",
     "text": [
      "INFO:tensorflow:vocabulary_size = 608 in primary_diagnosis_code is inferred from the number of elements in the vocabulary_file ./diabetes_vocab/primary_diagnosis_code_vocab.txt.\n"
     ]
    },
    {
     "name": "stdout",
     "output_type": "stream",
     "text": [
      "### primary_diagnosis_code: #lines: 608, embedding (categorical)\n",
      "INFO:tensorflow:vocabulary_size = 9499 in other_diagnosis_codes is inferred from the number of elements in the vocabulary_file ./diabetes_vocab/other_diagnosis_codes_vocab.txt.\n"
     ]
    },
    {
     "name": "stderr",
     "output_type": "stream",
     "text": [
      "INFO:tensorflow:vocabulary_size = 9499 in other_diagnosis_codes is inferred from the number of elements in the vocabulary_file ./diabetes_vocab/other_diagnosis_codes_vocab.txt.\n"
     ]
    },
    {
     "name": "stdout",
     "output_type": "stream",
     "text": [
      "### other_diagnosis_codes: #lines: 9499, embedding (categorical)\n",
      "INFO:tensorflow:vocabulary_size = 7 in race is inferred from the number of elements in the vocabulary_file ./diabetes_vocab/race_vocab.txt.\n"
     ]
    },
    {
     "name": "stderr",
     "output_type": "stream",
     "text": [
      "INFO:tensorflow:vocabulary_size = 7 in race is inferred from the number of elements in the vocabulary_file ./diabetes_vocab/race_vocab.txt.\n"
     ]
    },
    {
     "name": "stdout",
     "output_type": "stream",
     "text": [
      "### race: #lines: 7, indicator (categorical)\n",
      "INFO:tensorflow:vocabulary_size = 4 in gender is inferred from the number of elements in the vocabulary_file ./diabetes_vocab/gender_vocab.txt.\n"
     ]
    },
    {
     "name": "stderr",
     "output_type": "stream",
     "text": [
      "INFO:tensorflow:vocabulary_size = 4 in gender is inferred from the number of elements in the vocabulary_file ./diabetes_vocab/gender_vocab.txt.\n"
     ]
    },
    {
     "name": "stdout",
     "output_type": "stream",
     "text": [
      "### gender: #lines: 4, indicator (categorical)\n",
      "INFO:tensorflow:vocabulary_size = 11 in age is inferred from the number of elements in the vocabulary_file ./diabetes_vocab/age_vocab.txt.\n"
     ]
    },
    {
     "name": "stderr",
     "output_type": "stream",
     "text": [
      "INFO:tensorflow:vocabulary_size = 11 in age is inferred from the number of elements in the vocabulary_file ./diabetes_vocab/age_vocab.txt.\n"
     ]
    },
    {
     "name": "stdout",
     "output_type": "stream",
     "text": [
      "### age: #lines: 11, embedding (categorical)\n",
      "INFO:tensorflow:vocabulary_size = 3 in Acarbose is inferred from the number of elements in the vocabulary_file ./diabetes_vocab/Acarbose_vocab.txt.\n"
     ]
    },
    {
     "name": "stderr",
     "output_type": "stream",
     "text": [
      "INFO:tensorflow:vocabulary_size = 3 in Acarbose is inferred from the number of elements in the vocabulary_file ./diabetes_vocab/Acarbose_vocab.txt.\n"
     ]
    },
    {
     "name": "stdout",
     "output_type": "stream",
     "text": [
      "### Acarbose: #lines: 3, indicator (categorical)\n",
      "INFO:tensorflow:vocabulary_size = 3 in Glimepiride is inferred from the number of elements in the vocabulary_file ./diabetes_vocab/Glimepiride_vocab.txt.\n"
     ]
    },
    {
     "name": "stderr",
     "output_type": "stream",
     "text": [
      "INFO:tensorflow:vocabulary_size = 3 in Glimepiride is inferred from the number of elements in the vocabulary_file ./diabetes_vocab/Glimepiride_vocab.txt.\n"
     ]
    },
    {
     "name": "stdout",
     "output_type": "stream",
     "text": [
      "### Glimepiride: #lines: 3, indicator (categorical)\n",
      "INFO:tensorflow:vocabulary_size = 3 in Glipizide is inferred from the number of elements in the vocabulary_file ./diabetes_vocab/Glipizide_vocab.txt.\n"
     ]
    },
    {
     "name": "stderr",
     "output_type": "stream",
     "text": [
      "INFO:tensorflow:vocabulary_size = 3 in Glipizide is inferred from the number of elements in the vocabulary_file ./diabetes_vocab/Glipizide_vocab.txt.\n"
     ]
    },
    {
     "name": "stdout",
     "output_type": "stream",
     "text": [
      "### Glipizide: #lines: 3, indicator (categorical)\n",
      "INFO:tensorflow:vocabulary_size = 3 in Glipizide_And_Metformin_Hcl is inferred from the number of elements in the vocabulary_file ./diabetes_vocab/Glipizide_And_Metformin_Hcl_vocab.txt.\n"
     ]
    },
    {
     "name": "stderr",
     "output_type": "stream",
     "text": [
      "INFO:tensorflow:vocabulary_size = 3 in Glipizide_And_Metformin_Hcl is inferred from the number of elements in the vocabulary_file ./diabetes_vocab/Glipizide_And_Metformin_Hcl_vocab.txt.\n"
     ]
    },
    {
     "name": "stdout",
     "output_type": "stream",
     "text": [
      "### Glipizide_And_Metformin_Hcl: #lines: 3, indicator (categorical)\n",
      "INFO:tensorflow:vocabulary_size = 3 in Glipizide_And_Metformin_Hydrochloride is inferred from the number of elements in the vocabulary_file ./diabetes_vocab/Glipizide_And_Metformin_Hydrochloride_vocab.txt.\n"
     ]
    },
    {
     "name": "stderr",
     "output_type": "stream",
     "text": [
      "INFO:tensorflow:vocabulary_size = 3 in Glipizide_And_Metformin_Hydrochloride is inferred from the number of elements in the vocabulary_file ./diabetes_vocab/Glipizide_And_Metformin_Hydrochloride_vocab.txt.\n"
     ]
    },
    {
     "name": "stdout",
     "output_type": "stream",
     "text": [
      "### Glipizide_And_Metformin_Hydrochloride: #lines: 3, indicator (categorical)\n",
      "INFO:tensorflow:vocabulary_size = 3 in Glyburide is inferred from the number of elements in the vocabulary_file ./diabetes_vocab/Glyburide_vocab.txt.\n"
     ]
    },
    {
     "name": "stderr",
     "output_type": "stream",
     "text": [
      "INFO:tensorflow:vocabulary_size = 3 in Glyburide is inferred from the number of elements in the vocabulary_file ./diabetes_vocab/Glyburide_vocab.txt.\n"
     ]
    },
    {
     "name": "stdout",
     "output_type": "stream",
     "text": [
      "### Glyburide: #lines: 3, indicator (categorical)\n",
      "INFO:tensorflow:vocabulary_size = 3 in Glyburide_And_Metformin_Hydrochloride is inferred from the number of elements in the vocabulary_file ./diabetes_vocab/Glyburide_And_Metformin_Hydrochloride_vocab.txt.\n"
     ]
    },
    {
     "name": "stderr",
     "output_type": "stream",
     "text": [
      "INFO:tensorflow:vocabulary_size = 3 in Glyburide_And_Metformin_Hydrochloride is inferred from the number of elements in the vocabulary_file ./diabetes_vocab/Glyburide_And_Metformin_Hydrochloride_vocab.txt.\n"
     ]
    },
    {
     "name": "stdout",
     "output_type": "stream",
     "text": [
      "### Glyburide_And_Metformin_Hydrochloride: #lines: 3, indicator (categorical)\n",
      "INFO:tensorflow:vocabulary_size = 3 in Glyburide-metformin_Hydrochloride is inferred from the number of elements in the vocabulary_file ./diabetes_vocab/Glyburide-metformin_Hydrochloride_vocab.txt.\n"
     ]
    },
    {
     "name": "stderr",
     "output_type": "stream",
     "text": [
      "INFO:tensorflow:vocabulary_size = 3 in Glyburide-metformin_Hydrochloride is inferred from the number of elements in the vocabulary_file ./diabetes_vocab/Glyburide-metformin_Hydrochloride_vocab.txt.\n"
     ]
    },
    {
     "name": "stdout",
     "output_type": "stream",
     "text": [
      "### Glyburide-metformin_Hydrochloride: #lines: 3, indicator (categorical)\n",
      "INFO:tensorflow:vocabulary_size = 3 in Human_Insulin is inferred from the number of elements in the vocabulary_file ./diabetes_vocab/Human_Insulin_vocab.txt.\n"
     ]
    },
    {
     "name": "stderr",
     "output_type": "stream",
     "text": [
      "INFO:tensorflow:vocabulary_size = 3 in Human_Insulin is inferred from the number of elements in the vocabulary_file ./diabetes_vocab/Human_Insulin_vocab.txt.\n"
     ]
    },
    {
     "name": "stdout",
     "output_type": "stream",
     "text": [
      "### Human_Insulin: #lines: 3, indicator (categorical)\n",
      "INFO:tensorflow:vocabulary_size = 3 in Insulin_Human is inferred from the number of elements in the vocabulary_file ./diabetes_vocab/Insulin_Human_vocab.txt.\n"
     ]
    },
    {
     "name": "stderr",
     "output_type": "stream",
     "text": [
      "INFO:tensorflow:vocabulary_size = 3 in Insulin_Human is inferred from the number of elements in the vocabulary_file ./diabetes_vocab/Insulin_Human_vocab.txt.\n"
     ]
    },
    {
     "name": "stdout",
     "output_type": "stream",
     "text": [
      "### Insulin_Human: #lines: 3, indicator (categorical)\n",
      "INFO:tensorflow:vocabulary_size = 3 in Metformin_Hcl is inferred from the number of elements in the vocabulary_file ./diabetes_vocab/Metformin_Hcl_vocab.txt.\n"
     ]
    },
    {
     "name": "stderr",
     "output_type": "stream",
     "text": [
      "INFO:tensorflow:vocabulary_size = 3 in Metformin_Hcl is inferred from the number of elements in the vocabulary_file ./diabetes_vocab/Metformin_Hcl_vocab.txt.\n"
     ]
    },
    {
     "name": "stdout",
     "output_type": "stream",
     "text": [
      "### Metformin_Hcl: #lines: 3, indicator (categorical)\n",
      "INFO:tensorflow:vocabulary_size = 3 in Metformin_Hydrochloride is inferred from the number of elements in the vocabulary_file ./diabetes_vocab/Metformin_Hydrochloride_vocab.txt.\n"
     ]
    },
    {
     "name": "stderr",
     "output_type": "stream",
     "text": [
      "INFO:tensorflow:vocabulary_size = 3 in Metformin_Hydrochloride is inferred from the number of elements in the vocabulary_file ./diabetes_vocab/Metformin_Hydrochloride_vocab.txt.\n"
     ]
    },
    {
     "name": "stdout",
     "output_type": "stream",
     "text": [
      "### Metformin_Hydrochloride: #lines: 3, indicator (categorical)\n",
      "INFO:tensorflow:vocabulary_size = 3 in Miglitol is inferred from the number of elements in the vocabulary_file ./diabetes_vocab/Miglitol_vocab.txt.\n"
     ]
    },
    {
     "name": "stderr",
     "output_type": "stream",
     "text": [
      "INFO:tensorflow:vocabulary_size = 3 in Miglitol is inferred from the number of elements in the vocabulary_file ./diabetes_vocab/Miglitol_vocab.txt.\n"
     ]
    },
    {
     "name": "stdout",
     "output_type": "stream",
     "text": [
      "### Miglitol: #lines: 3, indicator (categorical)\n",
      "INFO:tensorflow:vocabulary_size = 3 in Nateglinide is inferred from the number of elements in the vocabulary_file ./diabetes_vocab/Nateglinide_vocab.txt.\n"
     ]
    },
    {
     "name": "stderr",
     "output_type": "stream",
     "text": [
      "INFO:tensorflow:vocabulary_size = 3 in Nateglinide is inferred from the number of elements in the vocabulary_file ./diabetes_vocab/Nateglinide_vocab.txt.\n"
     ]
    },
    {
     "name": "stdout",
     "output_type": "stream",
     "text": [
      "### Nateglinide: #lines: 3, indicator (categorical)\n",
      "INFO:tensorflow:vocabulary_size = 3 in Pioglitazone is inferred from the number of elements in the vocabulary_file ./diabetes_vocab/Pioglitazone_vocab.txt.\n"
     ]
    },
    {
     "name": "stderr",
     "output_type": "stream",
     "text": [
      "INFO:tensorflow:vocabulary_size = 3 in Pioglitazone is inferred from the number of elements in the vocabulary_file ./diabetes_vocab/Pioglitazone_vocab.txt.\n"
     ]
    },
    {
     "name": "stdout",
     "output_type": "stream",
     "text": [
      "### Pioglitazone: #lines: 3, indicator (categorical)\n",
      "INFO:tensorflow:vocabulary_size = 3 in Pioglitazone_Hydrochloride_And_Glimepiride is inferred from the number of elements in the vocabulary_file ./diabetes_vocab/Pioglitazone_Hydrochloride_And_Glimepiride_vocab.txt.\n"
     ]
    },
    {
     "name": "stderr",
     "output_type": "stream",
     "text": [
      "INFO:tensorflow:vocabulary_size = 3 in Pioglitazone_Hydrochloride_And_Glimepiride is inferred from the number of elements in the vocabulary_file ./diabetes_vocab/Pioglitazone_Hydrochloride_And_Glimepiride_vocab.txt.\n"
     ]
    },
    {
     "name": "stdout",
     "output_type": "stream",
     "text": [
      "### Pioglitazone_Hydrochloride_And_Glimepiride: #lines: 3, indicator (categorical)\n",
      "INFO:tensorflow:vocabulary_size = 3 in Repaglinide is inferred from the number of elements in the vocabulary_file ./diabetes_vocab/Repaglinide_vocab.txt.\n"
     ]
    },
    {
     "name": "stderr",
     "output_type": "stream",
     "text": [
      "INFO:tensorflow:vocabulary_size = 3 in Repaglinide is inferred from the number of elements in the vocabulary_file ./diabetes_vocab/Repaglinide_vocab.txt.\n"
     ]
    },
    {
     "name": "stdout",
     "output_type": "stream",
     "text": [
      "### Repaglinide: #lines: 3, indicator (categorical)\n",
      "INFO:tensorflow:vocabulary_size = 3 in Rosiglitazone_Maleate is inferred from the number of elements in the vocabulary_file ./diabetes_vocab/Rosiglitazone_Maleate_vocab.txt.\n"
     ]
    },
    {
     "name": "stderr",
     "output_type": "stream",
     "text": [
      "INFO:tensorflow:vocabulary_size = 3 in Rosiglitazone_Maleate is inferred from the number of elements in the vocabulary_file ./diabetes_vocab/Rosiglitazone_Maleate_vocab.txt.\n"
     ]
    },
    {
     "name": "stdout",
     "output_type": "stream",
     "text": [
      "### Rosiglitazone_Maleate: #lines: 3, indicator (categorical)\n",
      "INFO:tensorflow:vocabulary_size = 3 in Tolazamide is inferred from the number of elements in the vocabulary_file ./diabetes_vocab/Tolazamide_vocab.txt.\n"
     ]
    },
    {
     "name": "stderr",
     "output_type": "stream",
     "text": [
      "INFO:tensorflow:vocabulary_size = 3 in Tolazamide is inferred from the number of elements in the vocabulary_file ./diabetes_vocab/Tolazamide_vocab.txt.\n"
     ]
    },
    {
     "name": "stdout",
     "output_type": "stream",
     "text": [
      "### Tolazamide: #lines: 3, indicator (categorical)\n",
      "INFO:tensorflow:vocabulary_size = 3 in Tolbutamide is inferred from the number of elements in the vocabulary_file ./diabetes_vocab/Tolbutamide_vocab.txt.\n"
     ]
    },
    {
     "name": "stderr",
     "output_type": "stream",
     "text": [
      "INFO:tensorflow:vocabulary_size = 3 in Tolbutamide is inferred from the number of elements in the vocabulary_file ./diabetes_vocab/Tolbutamide_vocab.txt.\n"
     ]
    },
    {
     "name": "stdout",
     "output_type": "stream",
     "text": [
      "### Tolbutamide: #lines: 3, indicator (categorical)\n"
     ]
    }
   ],
   "source": [
    "importlib.reload(student_utils)\n",
    "from student_utils import create_tf_categorical_feature_cols\n",
    "tf_cat_col_list = create_tf_categorical_feature_cols(student_categorical_col_list)"
   ]
  },
  {
   "cell_type": "code",
   "execution_count": 162,
   "metadata": {
    "scrolled": true
   },
   "outputs": [
    {
     "name": "stdout",
     "output_type": "stream",
     "text": [
      "Example categorical field:\n",
      "EmbeddingColumn(categorical_column=VocabularyFileCategoricalColumn(key='primary_diagnosis_code', vocabulary_file='./diabetes_vocab/primary_diagnosis_code_vocab.txt', vocabulary_size=608, num_oov_buckets=0, dtype=tf.string, default_value=-1), dimension=10, combiner='mean', initializer=<tensorflow.python.ops.init_ops.TruncatedNormal object at 0x7f1f83310990>, ckpt_to_load_from=None, tensor_name_in_ckpt=None, max_norm=None, trainable=True)\n",
      "tf.Tensor(\n",
      "[[-0.2629739   0.11117417 -0.40224227 ...  0.02027701  0.12460662\n",
      "  -0.13405293]\n",
      " [-0.6103997   0.25807706 -0.1241478  ...  0.00800282 -0.18798883\n",
      "  -0.2638924 ]\n",
      " [ 0.14498064  0.511594   -0.33776295 ... -0.1141459   0.33409554\n",
      "   0.09621295]\n",
      " ...\n",
      " [-0.1424502  -0.27762187 -0.10439392 ...  0.18248221  0.20847012\n",
      "  -0.19457698]\n",
      " [-0.15479042  0.498179    0.19654283 ...  0.1615205   0.2660595\n",
      "  -0.07111695]\n",
      " [ 0.0932399  -0.3754617  -0.1806766  ... -0.19602345  0.44257444\n",
      "  -0.1662916 ]], shape=(128, 10), dtype=float32)\n"
     ]
    }
   ],
   "source": [
    "test_cat_var1 = tf_cat_col_list[0]\n",
    "print(\"Example categorical field:\\n{}\".format(test_cat_var1))\n",
    "demo(test_cat_var1, diabetes_batch)"
   ]
  },
  {
   "cell_type": "markdown",
   "metadata": {},
   "source": [
    "**Question 7** <font color='red'><b>Student Response</b></font>:\n",
    "\n",
    "Categorical Features created, using Embedding Column with 10 dimensions for features with large cardinality ( \"primary_diagnosis_code\" and \"other_diagnosis_codes\"):\n",
    "\n",
    "* race\n",
    "* gender\n",
    "* age\n",
    "* primary_diagnosis_code (embedding, dim=10)\n",
    "* other_diagnosis_codes (embedding, dim=10)\n",
    "* one-hot encoded features for each generic drug"
   ]
  },
  {
   "cell_type": "markdown",
   "metadata": {},
   "source": [
    "# 5. Create Numerical Features with TF Feature Columns"
   ]
  },
  {
   "cell_type": "markdown",
   "metadata": {},
   "source": [
    "**Question 8**: Using the TF Feature Column API(https://www.tensorflow.org/api_docs/python/tf/feature_column/), please create normalized Tensorflow numeric features for the model. Try to use the z-score normalizer function below to help as well as the 'calculate_stats_from_train_data' function."
   ]
  },
  {
   "cell_type": "code",
   "execution_count": 163,
   "metadata": {},
   "outputs": [],
   "source": [
    "importlib.reload(student_utils)\n",
    "from student_utils import create_tf_numeric_feature"
   ]
  },
  {
   "cell_type": "markdown",
   "metadata": {},
   "source": [
    "For simplicity the create_tf_numerical_feature_cols function below uses the same normalizer function across all features(z-score normalization) but if you have time feel free to analyze and adapt the normalizer based off the statistical distributions. You may find this as a good resource in determining which transformation fits best for the data https://developers.google.com/machine-learning/data-prep/transform/normalization.\n"
   ]
  },
  {
   "cell_type": "code",
   "execution_count": 164,
   "metadata": {},
   "outputs": [],
   "source": [
    "def calculate_stats_from_train_data(df, col):\n",
    "    mean = df[col].describe()['mean']\n",
    "    std = df[col].describe()['std']\n",
    "    return mean, std\n",
    "\n",
    "def create_tf_numerical_feature_cols(numerical_col_list, train_df):\n",
    "    tf_numeric_col_list = []\n",
    "    for c in numerical_col_list:\n",
    "        mean, std = calculate_stats_from_train_data(train_df, c)\n",
    "        tf_numeric_feature = create_tf_numeric_feature(c, mean, std)\n",
    "        tf_numeric_col_list.append(tf_numeric_feature)\n",
    "    return tf_numeric_col_list"
   ]
  },
  {
   "cell_type": "code",
   "execution_count": 165,
   "metadata": {},
   "outputs": [
    {
     "name": "stdout",
     "output_type": "stream",
     "text": [
      "### num_lab_procedures: #mean/std: 43.61654689515386/20.138177967852414, numeric (normalized)\n",
      "### num_medications: #mean/std: 16.64455500276396/8.526864203842047, numeric (normalized)\n"
     ]
    }
   ],
   "source": [
    "tf_cont_col_list = create_tf_numerical_feature_cols(student_numerical_col_list, d_train)"
   ]
  },
  {
   "cell_type": "code",
   "execution_count": 166,
   "metadata": {},
   "outputs": [
    {
     "name": "stdout",
     "output_type": "stream",
     "text": [
      "Example continuous field:\n",
      "NumericColumn(key='num_lab_procedures', shape=(1,), default_value=(0,), dtype=tf.float64, normalizer_fn=functools.partial(<function normalize_numeric_with_zscore at 0x7f1f6169f320>, mean=43.61654689515386, std=20.138177967852414))\n",
      "\n",
      "tf.Tensor(\n",
      "[[-0.3 ]\n",
      " [-1.15]\n",
      " [-0.4 ]\n",
      " [ 0.35]\n",
      " [ 1.4 ]\n",
      " [ 1.15]\n",
      " [ 1.05]\n",
      " [-1.3 ]\n",
      " [ 0.2 ]\n",
      " [-1.9 ]\n",
      " [-0.8 ]\n",
      " [ 0.6 ]\n",
      " [ 1.25]\n",
      " [-0.6 ]\n",
      " [-0.55]\n",
      " [-1.2 ]\n",
      " [ 0.25]\n",
      " [ 0.45]\n",
      " [-1.4 ]\n",
      " [ 1.2 ]\n",
      " [ 0.6 ]\n",
      " [-0.45]\n",
      " [ 0.2 ]\n",
      " [ 0.45]\n",
      " [ 0.6 ]\n",
      " [ 1.  ]\n",
      " [ 1.15]\n",
      " [-0.05]\n",
      " [ 1.  ]\n",
      " [ 0.3 ]\n",
      " [ 0.25]\n",
      " [-1.1 ]\n",
      " [ 1.4 ]\n",
      " [-1.7 ]\n",
      " [-0.05]\n",
      " [ 2.05]\n",
      " [ 0.25]\n",
      " [ 0.05]\n",
      " [-0.3 ]\n",
      " [-0.2 ]\n",
      " [ 1.  ]\n",
      " [-0.6 ]\n",
      " [ 0.75]\n",
      " [-0.05]\n",
      " [ 0.05]\n",
      " [-0.45]\n",
      " [-1.05]\n",
      " [ 0.35]\n",
      " [-0.05]\n",
      " [ 0.8 ]\n",
      " [ 0.75]\n",
      " [-0.3 ]\n",
      " [-0.05]\n",
      " [ 0.2 ]\n",
      " [-0.15]\n",
      " [-2.1 ]\n",
      " [ 0.65]\n",
      " [ 0.85]\n",
      " [ 1.3 ]\n",
      " [-1.  ]\n",
      " [-0.35]\n",
      " [ 1.05]\n",
      " [-0.25]\n",
      " [ 0.25]\n",
      " [-0.4 ]\n",
      " [ 1.  ]\n",
      " [ 0.65]\n",
      " [ 0.8 ]\n",
      " [ 1.1 ]\n",
      " [ 0.  ]\n",
      " [-1.15]\n",
      " [-0.15]\n",
      " [ 0.9 ]\n",
      " [-0.25]\n",
      " [ 0.05]\n",
      " [-0.7 ]\n",
      " [-1.5 ]\n",
      " [ 0.7 ]\n",
      " [ 1.3 ]\n",
      " [-0.1 ]\n",
      " [ 0.9 ]\n",
      " [-0.25]\n",
      " [ 0.25]\n",
      " [ 1.4 ]\n",
      " [ 0.65]\n",
      " [-0.35]\n",
      " [ 0.15]\n",
      " [ 1.1 ]\n",
      " [ 1.25]\n",
      " [-2.05]\n",
      " [ 0.4 ]\n",
      " [-2.05]\n",
      " [-0.45]\n",
      " [-0.7 ]\n",
      " [-1.4 ]\n",
      " [ 1.  ]\n",
      " [-1.75]\n",
      " [-2.1 ]\n",
      " [ 0.05]\n",
      " [ 0.5 ]\n",
      " [-2.1 ]\n",
      " [-0.3 ]\n",
      " [-0.5 ]\n",
      " [ 0.45]\n",
      " [-0.1 ]\n",
      " [-0.6 ]\n",
      " [ 1.05]\n",
      " [ 0.2 ]\n",
      " [ 1.2 ]\n",
      " [-0.2 ]\n",
      " [-1.45]\n",
      " [ 0.4 ]\n",
      " [-0.9 ]\n",
      " [ 1.05]\n",
      " [ 1.2 ]\n",
      " [ 0.15]\n",
      " [-0.25]\n",
      " [-0.15]\n",
      " [ 0.65]\n",
      " [ 1.  ]\n",
      " [ 1.1 ]\n",
      " [ 0.15]\n",
      " [ 1.  ]\n",
      " [ 0.7 ]\n",
      " [-1.15]\n",
      " [ 0.  ]\n",
      " [ 0.05]\n",
      " [-0.15]], shape=(128, 1), dtype=float32)\n"
     ]
    }
   ],
   "source": [
    "test_cont_var1 = tf_cont_col_list[0]\n",
    "print(\"Example continuous field:\\n{}\\n\".format(test_cont_var1))\n",
    "demo(test_cont_var1, diabetes_batch)"
   ]
  },
  {
   "cell_type": "markdown",
   "metadata": {},
   "source": [
    "**Question 8** <font color='red'><b>Student Response</b></font>:\n",
    "\n",
    "Numeric Features created, using 'normalize_numeric_with_zscore' function:\n",
    "* num_lab_procedures\n",
    "* num_medications"
   ]
  },
  {
   "cell_type": "markdown",
   "metadata": {},
   "source": [
    "# 6. Build Deep Learning Regression Model with Sequential API and TF Probability Layers"
   ]
  },
  {
   "cell_type": "markdown",
   "metadata": {},
   "source": [
    "## Use DenseFeatures to combine features for model"
   ]
  },
  {
   "cell_type": "markdown",
   "metadata": {},
   "source": [
    "Now that we have prepared categorical and numerical features using Tensorflow's Feature Column API, we can combine them into a dense vector representation for the model. Below we will create this new input layer, which we will call 'claim_feature_layer'."
   ]
  },
  {
   "cell_type": "code",
   "execution_count": 167,
   "metadata": {},
   "outputs": [],
   "source": [
    "claim_feature_columns = tf_cat_col_list + tf_cont_col_list\n",
    "claim_feature_layer = tf.keras.layers.DenseFeatures(claim_feature_columns)"
   ]
  },
  {
   "cell_type": "markdown",
   "metadata": {},
   "source": [
    "## Build Sequential API Model from DenseFeatures and TF Probability Layers"
   ]
  },
  {
   "cell_type": "markdown",
   "metadata": {},
   "source": [
    "Below we have provided some boilerplate code for building a model that connects the Sequential API, DenseFeatures, and Tensorflow Probability layers into a deep learning model. There are many opportunities to further optimize and explore different architectures through benchmarking and testing approaches in various research papers, loss and evaluation metrics, learning curves, hyperparameter tuning, TF probability layers, etc. Feel free to modify and explore as you wish."
   ]
  },
  {
   "cell_type": "markdown",
   "metadata": {},
   "source": [
    "**OPTIONAL**: Come up with a more optimal neural network architecture and hyperparameters. Share the process in discovering the architecture and hyperparameters."
   ]
  },
  {
   "cell_type": "code",
   "execution_count": 168,
   "metadata": {},
   "outputs": [],
   "source": [
    "def build_sequential_model(feature_layer):\n",
    "    model = tf.keras.Sequential([\n",
    "        feature_layer,\n",
    "        tf.keras.layers.Dense(150, activation='relu'),\n",
    "        tf.keras.layers.Dense(75, activation='relu'),\n",
    "        tfp.layers.DenseVariational(1+1, posterior_mean_field, prior_trainable),\n",
    "        tfp.layers.DistributionLambda(\n",
    "            lambda t:tfp.distributions.Normal(loc=t[..., :1],\n",
    "                                             scale=1e-3 + tf.math.softplus(0.01 * t[...,1:])\n",
    "                                             )\n",
    "        ),\n",
    "    ])\n",
    "    return model\n",
    "\n",
    "def build_diabetes_model(train_ds, val_ds,  feature_layer,  epochs=5, loss_metric='mse', patience=3):\n",
    "    model = build_sequential_model(feature_layer)\n",
    "    model.compile(optimizer='rmsprop', loss=loss_metric, metrics=[loss_metric])\n",
    "    early_stop = tf.keras.callbacks.EarlyStopping(monitor=loss_metric, patience=patience)     \n",
    "    history = model.fit(train_ds, validation_data=val_ds,\n",
    "                        callbacks=[early_stop],\n",
    "                        epochs=epochs)\n",
    "    return model, history "
   ]
  },
  {
   "cell_type": "code",
   "execution_count": 189,
   "metadata": {
    "scrolled": true
   },
   "outputs": [
    {
     "name": "stdout",
     "output_type": "stream",
     "text": [
      "Train for 255 steps, validate for 85 steps\n",
      "Epoch 1/10\n",
      "255/255 [==============================] - 8s 32ms/step - loss: 28.5721 - mse: 28.4949 - val_loss: 23.0846 - val_mse: 22.7088\n",
      "Epoch 2/10\n",
      "255/255 [==============================] - 4s 17ms/step - loss: 19.5052 - mse: 19.0822 - val_loss: 16.3721 - val_mse: 15.5959\n",
      "Epoch 3/10\n",
      "255/255 [==============================] - 4s 17ms/step - loss: 14.4027 - mse: 13.6876 - val_loss: 15.1126 - val_mse: 14.2886\n",
      "Epoch 4/10\n",
      "255/255 [==============================] - 4s 16ms/step - loss: 13.0676 - mse: 12.2475 - val_loss: 13.9778 - val_mse: 13.0953\n",
      "Epoch 5/10\n",
      "255/255 [==============================] - 4s 17ms/step - loss: 11.7700 - mse: 10.7617 - val_loss: 11.9566 - val_mse: 10.8050\n",
      "Epoch 6/10\n",
      "255/255 [==============================] - 4s 17ms/step - loss: 10.1679 - mse: 9.1870 - val_loss: 11.3377 - val_mse: 10.2876\n",
      "Epoch 7/10\n",
      "255/255 [==============================] - 4s 16ms/step - loss: 10.4995 - mse: 9.6170 - val_loss: 10.1855 - val_mse: 9.3606\n",
      "Epoch 8/10\n",
      "255/255 [==============================] - 4s 17ms/step - loss: 9.3771 - mse: 8.4820 - val_loss: 11.6019 - val_mse: 10.5677\n",
      "Epoch 9/10\n",
      "255/255 [==============================] - 4s 16ms/step - loss: 9.1034 - mse: 8.1826 - val_loss: 9.2199 - val_mse: 8.5155\n",
      "Epoch 10/10\n",
      "255/255 [==============================] - 4s 16ms/step - loss: 9.2016 - mse: 8.3417 - val_loss: 10.1669 - val_mse: 9.2451\n"
     ]
    }
   ],
   "source": [
    "diabetes_model0, history0 = build_diabetes_model(diabetes_train_ds, diabetes_val_ds,  claim_feature_layer,  epochs=10)"
   ]
  },
  {
   "cell_type": "code",
   "execution_count": 190,
   "metadata": {},
   "outputs": [
    {
     "name": "stdout",
     "output_type": "stream",
     "text": [
      "Train for 255 steps, validate for 85 steps\n",
      "Epoch 1/20\n",
      "255/255 [==============================] - 7s 28ms/step - loss: 28.6795 - mse: 28.5770 - val_loss: 23.2293 - val_mse: 22.9559\n",
      "Epoch 2/20\n",
      "255/255 [==============================] - 4s 16ms/step - loss: 18.7294 - mse: 18.2330 - val_loss: 19.5867 - val_mse: 19.0664\n",
      "Epoch 3/20\n",
      "255/255 [==============================] - 4s 15ms/step - loss: 14.1505 - mse: 13.2278 - val_loss: 13.0376 - val_mse: 11.9916\n",
      "Epoch 4/20\n",
      "255/255 [==============================] - 4s 17ms/step - loss: 12.8331 - mse: 11.8768 - val_loss: 13.6773 - val_mse: 12.4255\n",
      "Epoch 5/20\n",
      "255/255 [==============================] - 4s 15ms/step - loss: 11.4179 - mse: 10.3046 - val_loss: 11.6053 - val_mse: 10.7984\n",
      "Epoch 6/20\n",
      "255/255 [==============================] - 4s 14ms/step - loss: 10.6528 - mse: 9.6483 - val_loss: 11.0895 - val_mse: 10.0681\n",
      "Epoch 7/20\n",
      "255/255 [==============================] - 4s 14ms/step - loss: 10.1153 - mse: 9.1921 - val_loss: 10.6119 - val_mse: 9.8958\n",
      "Epoch 8/20\n",
      "255/255 [==============================] - 4s 15ms/step - loss: 9.1499 - mse: 8.2808 - val_loss: 10.1301 - val_mse: 9.4660\n",
      "Epoch 9/20\n",
      "255/255 [==============================] - 4s 15ms/step - loss: 9.0923 - mse: 8.2482 - val_loss: 10.0496 - val_mse: 9.1858\n",
      "Epoch 10/20\n",
      "255/255 [==============================] - 4s 16ms/step - loss: 8.8881 - mse: 7.9191 - val_loss: 9.6561 - val_mse: 8.8330\n",
      "Epoch 11/20\n",
      "255/255 [==============================] - 4s 15ms/step - loss: 8.5110 - mse: 7.6425 - val_loss: 9.5360 - val_mse: 8.7431\n",
      "Epoch 12/20\n",
      "255/255 [==============================] - 4s 14ms/step - loss: 8.5916 - mse: 7.7229 - val_loss: 9.7104 - val_mse: 8.8670\n",
      "Epoch 13/20\n",
      "255/255 [==============================] - 4s 16ms/step - loss: 8.6732 - mse: 7.8278 - val_loss: 10.5142 - val_mse: 9.6918\n"
     ]
    }
   ],
   "source": [
    "diabetes_model1, history1 = build_diabetes_model(diabetes_train_ds, diabetes_val_ds,  claim_feature_layer,  epochs=20, patience=2)"
   ]
  },
  {
   "cell_type": "markdown",
   "metadata": {},
   "source": [
    "## Show Model Uncertainty Range with TF Probability"
   ]
  },
  {
   "cell_type": "markdown",
   "metadata": {},
   "source": [
    "**Question 9**: Now that we have trained a model with TF Probability layers, we can extract the mean and standard deviation for each prediction. Please fill in the answer for the m and s variables below. The code for getting the predictions is provided for you below."
   ]
  },
  {
   "cell_type": "code",
   "execution_count": 192,
   "metadata": {},
   "outputs": [],
   "source": [
    "feature_list = student_categorical_col_list + student_numerical_col_list\n",
    "diabetes_x_tst = dict(d_test[feature_list])\n",
    "diabetes_yhat = diabetes_model1(diabetes_x_tst)\n",
    "preds = diabetes_model1.predict(diabetes_test_ds)"
   ]
  },
  {
   "cell_type": "code",
   "execution_count": 193,
   "metadata": {},
   "outputs": [],
   "source": [
    "importlib.reload(student_utils)\n",
    "from student_utils import get_mean_std_from_preds\n",
    "m, s = get_mean_std_from_preds(diabetes_yhat)"
   ]
  },
  {
   "cell_type": "code",
   "execution_count": 194,
   "metadata": {},
   "outputs": [
    {
     "name": "stdout",
     "output_type": "stream",
     "text": [
      "Test set predictions, shape: (10855, 1), (10855, 1)\n",
      "Mean:\n",
      " [[3.4117923]\n",
      " [3.804472 ]\n",
      " [5.5568395]\n",
      " ...\n",
      " [4.9013205]\n",
      " [6.0996127]\n",
      " [2.239252 ]]\n",
      "STD:\n",
      " [[0.68915814]\n",
      " [0.69018555]\n",
      " [0.69379956]\n",
      " ...\n",
      " [0.69112736]\n",
      " [0.6957983 ]\n",
      " [0.68732655]]\n"
     ]
    }
   ],
   "source": [
    "print(f'Test set predictions, shape: {m.shape}, {s.shape}')\n",
    "print(f'Mean:\\n {m}')\n",
    "print(f'STD:\\n {s}')"
   ]
  },
  {
   "cell_type": "markdown",
   "metadata": {},
   "source": [
    "**Question 9** <font color='red'><b>Student Response</b></font>:\n",
    "\n",
    "Mean and STD for each prediction in the test set extracted."
   ]
  },
  {
   "cell_type": "markdown",
   "metadata": {},
   "source": [
    "## Show Prediction Output "
   ]
  },
  {
   "cell_type": "code",
   "execution_count": 195,
   "metadata": {},
   "outputs": [],
   "source": [
    "prob_outputs = {\n",
    "    \"pred\": preds.flatten(),\n",
    "    \"actual_value\": d_test['time_in_hospital'].values,\n",
    "    \"pred_mean\": m.numpy().flatten(),\n",
    "    \"pred_std\": s.numpy().flatten()\n",
    "}\n",
    "prob_output_df = pd.DataFrame(prob_outputs)"
   ]
  },
  {
   "cell_type": "code",
   "execution_count": 196,
   "metadata": {
    "scrolled": false
   },
   "outputs": [
    {
     "data": {
      "text/html": [
       "<div>\n",
       "<style scoped>\n",
       "    .dataframe tbody tr th:only-of-type {\n",
       "        vertical-align: middle;\n",
       "    }\n",
       "\n",
       "    .dataframe tbody tr th {\n",
       "        vertical-align: top;\n",
       "    }\n",
       "\n",
       "    .dataframe thead th {\n",
       "        text-align: right;\n",
       "    }\n",
       "</style>\n",
       "<table border=\"1\" class=\"dataframe\">\n",
       "  <thead>\n",
       "    <tr style=\"text-align: right;\">\n",
       "      <th></th>\n",
       "      <th>pred</th>\n",
       "      <th>actual_value</th>\n",
       "      <th>pred_mean</th>\n",
       "      <th>pred_std</th>\n",
       "    </tr>\n",
       "  </thead>\n",
       "  <tbody>\n",
       "    <tr>\n",
       "      <th>0</th>\n",
       "      <td>5.110824</td>\n",
       "      <td>2.0</td>\n",
       "      <td>3.411792</td>\n",
       "      <td>0.689158</td>\n",
       "    </tr>\n",
       "    <tr>\n",
       "      <th>1</th>\n",
       "      <td>10.134164</td>\n",
       "      <td>2.0</td>\n",
       "      <td>3.804472</td>\n",
       "      <td>0.690186</td>\n",
       "    </tr>\n",
       "    <tr>\n",
       "      <th>2</th>\n",
       "      <td>3.792348</td>\n",
       "      <td>2.0</td>\n",
       "      <td>5.556839</td>\n",
       "      <td>0.693800</td>\n",
       "    </tr>\n",
       "    <tr>\n",
       "      <th>3</th>\n",
       "      <td>4.218874</td>\n",
       "      <td>2.0</td>\n",
       "      <td>5.427880</td>\n",
       "      <td>0.692998</td>\n",
       "    </tr>\n",
       "    <tr>\n",
       "      <th>4</th>\n",
       "      <td>2.305079</td>\n",
       "      <td>3.0</td>\n",
       "      <td>5.884774</td>\n",
       "      <td>0.690465</td>\n",
       "    </tr>\n",
       "    <tr>\n",
       "      <th>5</th>\n",
       "      <td>2.500906</td>\n",
       "      <td>8.0</td>\n",
       "      <td>9.473644</td>\n",
       "      <td>0.697217</td>\n",
       "    </tr>\n",
       "    <tr>\n",
       "      <th>6</th>\n",
       "      <td>3.869190</td>\n",
       "      <td>1.0</td>\n",
       "      <td>4.913541</td>\n",
       "      <td>0.689442</td>\n",
       "    </tr>\n",
       "    <tr>\n",
       "      <th>7</th>\n",
       "      <td>4.373013</td>\n",
       "      <td>3.0</td>\n",
       "      <td>6.659443</td>\n",
       "      <td>0.690312</td>\n",
       "    </tr>\n",
       "    <tr>\n",
       "      <th>8</th>\n",
       "      <td>4.017283</td>\n",
       "      <td>5.0</td>\n",
       "      <td>7.553080</td>\n",
       "      <td>0.698395</td>\n",
       "    </tr>\n",
       "    <tr>\n",
       "      <th>9</th>\n",
       "      <td>5.012047</td>\n",
       "      <td>5.0</td>\n",
       "      <td>5.115579</td>\n",
       "      <td>0.691517</td>\n",
       "    </tr>\n",
       "  </tbody>\n",
       "</table>\n",
       "</div>"
      ],
      "text/plain": [
       "        pred  actual_value  pred_mean  pred_std\n",
       "0   5.110824           2.0   3.411792  0.689158\n",
       "1  10.134164           2.0   3.804472  0.690186\n",
       "2   3.792348           2.0   5.556839  0.693800\n",
       "3   4.218874           2.0   5.427880  0.692998\n",
       "4   2.305079           3.0   5.884774  0.690465\n",
       "5   2.500906           8.0   9.473644  0.697217\n",
       "6   3.869190           1.0   4.913541  0.689442\n",
       "7   4.373013           3.0   6.659443  0.690312\n",
       "8   4.017283           5.0   7.553080  0.698395\n",
       "9   5.012047           5.0   5.115579  0.691517"
      ]
     },
     "execution_count": 196,
     "metadata": {},
     "output_type": "execute_result"
    }
   ],
   "source": [
    "prob_output_df.head(10)"
   ]
  },
  {
   "cell_type": "markdown",
   "metadata": {},
   "source": [
    "## Convert Regression Output to Classification Output for Patient Selection"
   ]
  },
  {
   "cell_type": "markdown",
   "metadata": {},
   "source": [
    "**Question 10**: Given the output predictions, convert it to a binary label for whether the patient meets the time criteria or does not (HINT: use the mean prediction numpy array). The expected output is a numpy array with a 1 or 0 based off if the prediction meets or doesnt meet the criteria."
   ]
  },
  {
   "cell_type": "code",
   "execution_count": 197,
   "metadata": {},
   "outputs": [
    {
     "name": "stdout",
     "output_type": "stream",
     "text": [
      "### Transformed to numpy: <class 'numpy.ndarray'>, shape: (10855,)\n"
     ]
    }
   ],
   "source": [
    "importlib.reload(student_utils)\n",
    "from student_utils import get_student_binary_prediction\n",
    "student_binary_prediction = get_student_binary_prediction(prob_output_df, 'pred_mean')"
   ]
  },
  {
   "cell_type": "code",
   "execution_count": 198,
   "metadata": {
    "scrolled": true
   },
   "outputs": [
    {
     "data": {
      "text/plain": [
       "array([0, 0, 1, 1, 1, 1, 0, 1, 1, 1])"
      ]
     },
     "execution_count": 198,
     "metadata": {},
     "output_type": "execute_result"
    }
   ],
   "source": [
    "student_binary_prediction[:10]"
   ]
  },
  {
   "cell_type": "markdown",
   "metadata": {},
   "source": [
    "**Question 10** <font color='red'><b>Student Response</b></font>:\n",
    "\n",
    "Binary predictions extracted from mean predictions and threshold of 5 days hospital stay or more."
   ]
  },
  {
   "cell_type": "markdown",
   "metadata": {},
   "source": [
    "### Add Binary Prediction to Test Dataframe"
   ]
  },
  {
   "cell_type": "markdown",
   "metadata": {},
   "source": [
    "Using the student_binary_prediction output that is a numpy array with binary labels, we can use this to add to a dataframe to better visualize and also to prepare the data for the Aequitas toolkit. The Aequitas toolkit requires that the predictions be mapped to a binary label for the predictions (called 'score' field) and the actual value (called 'label_value')."
   ]
  },
  {
   "cell_type": "code",
   "execution_count": 199,
   "metadata": {},
   "outputs": [],
   "source": [
    "def add_pred_to_test(test_df, pred_np, demo_col_list):\n",
    "    for c in demo_col_list:\n",
    "        test_df[c] = test_df[c].astype(str)\n",
    "    test_df['score'] = pred_np\n",
    "    test_df['label_value'] = test_df['time_in_hospital'].apply(lambda x: 1 if x >=5 else 0)\n",
    "    return test_df\n",
    "\n",
    "pred_test_df = add_pred_to_test(d_test, student_binary_prediction, ['race', 'gender'])"
   ]
  },
  {
   "cell_type": "code",
   "execution_count": 200,
   "metadata": {},
   "outputs": [
    {
     "data": {
      "text/html": [
       "<div>\n",
       "<style scoped>\n",
       "    .dataframe tbody tr th:only-of-type {\n",
       "        vertical-align: middle;\n",
       "    }\n",
       "\n",
       "    .dataframe tbody tr th {\n",
       "        vertical-align: top;\n",
       "    }\n",
       "\n",
       "    .dataframe thead th {\n",
       "        text-align: right;\n",
       "    }\n",
       "</style>\n",
       "<table border=\"1\" class=\"dataframe\">\n",
       "  <thead>\n",
       "    <tr style=\"text-align: right;\">\n",
       "      <th></th>\n",
       "      <th>patient_nbr</th>\n",
       "      <th>gender</th>\n",
       "      <th>race</th>\n",
       "      <th>time_in_hospital</th>\n",
       "      <th>score</th>\n",
       "      <th>label_value</th>\n",
       "    </tr>\n",
       "  </thead>\n",
       "  <tbody>\n",
       "    <tr>\n",
       "      <th>48276</th>\n",
       "      <td>45996732</td>\n",
       "      <td>Female</td>\n",
       "      <td>Caucasian</td>\n",
       "      <td>2.0</td>\n",
       "      <td>0</td>\n",
       "      <td>0</td>\n",
       "    </tr>\n",
       "    <tr>\n",
       "      <th>34642</th>\n",
       "      <td>59724036</td>\n",
       "      <td>Male</td>\n",
       "      <td>Caucasian</td>\n",
       "      <td>2.0</td>\n",
       "      <td>0</td>\n",
       "      <td>0</td>\n",
       "    </tr>\n",
       "    <tr>\n",
       "      <th>16636</th>\n",
       "      <td>942255</td>\n",
       "      <td>Female</td>\n",
       "      <td>?</td>\n",
       "      <td>2.0</td>\n",
       "      <td>1</td>\n",
       "      <td>0</td>\n",
       "    </tr>\n",
       "    <tr>\n",
       "      <th>9327</th>\n",
       "      <td>19293066</td>\n",
       "      <td>Male</td>\n",
       "      <td>AfricanAmerican</td>\n",
       "      <td>2.0</td>\n",
       "      <td>1</td>\n",
       "      <td>0</td>\n",
       "    </tr>\n",
       "    <tr>\n",
       "      <th>3684</th>\n",
       "      <td>519093</td>\n",
       "      <td>Female</td>\n",
       "      <td>Caucasian</td>\n",
       "      <td>3.0</td>\n",
       "      <td>1</td>\n",
       "      <td>0</td>\n",
       "    </tr>\n",
       "    <tr>\n",
       "      <th>36502</th>\n",
       "      <td>112474917</td>\n",
       "      <td>Female</td>\n",
       "      <td>Caucasian</td>\n",
       "      <td>8.0</td>\n",
       "      <td>1</td>\n",
       "      <td>1</td>\n",
       "    </tr>\n",
       "    <tr>\n",
       "      <th>35919</th>\n",
       "      <td>78100425</td>\n",
       "      <td>Male</td>\n",
       "      <td>Caucasian</td>\n",
       "      <td>1.0</td>\n",
       "      <td>0</td>\n",
       "      <td>0</td>\n",
       "    </tr>\n",
       "    <tr>\n",
       "      <th>13577</th>\n",
       "      <td>25522029</td>\n",
       "      <td>Female</td>\n",
       "      <td>Caucasian</td>\n",
       "      <td>3.0</td>\n",
       "      <td>1</td>\n",
       "      <td>0</td>\n",
       "    </tr>\n",
       "    <tr>\n",
       "      <th>27325</th>\n",
       "      <td>77264766</td>\n",
       "      <td>Male</td>\n",
       "      <td>AfricanAmerican</td>\n",
       "      <td>5.0</td>\n",
       "      <td>1</td>\n",
       "      <td>1</td>\n",
       "    </tr>\n",
       "    <tr>\n",
       "      <th>14883</th>\n",
       "      <td>1094508</td>\n",
       "      <td>Male</td>\n",
       "      <td>Caucasian</td>\n",
       "      <td>5.0</td>\n",
       "      <td>1</td>\n",
       "      <td>1</td>\n",
       "    </tr>\n",
       "  </tbody>\n",
       "</table>\n",
       "</div>"
      ],
      "text/plain": [
       "       patient_nbr  gender             race  time_in_hospital  score  \\\n",
       "48276     45996732  Female        Caucasian               2.0      0   \n",
       "34642     59724036    Male        Caucasian               2.0      0   \n",
       "16636       942255  Female                ?               2.0      1   \n",
       "9327      19293066    Male  AfricanAmerican               2.0      1   \n",
       "3684        519093  Female        Caucasian               3.0      1   \n",
       "36502    112474917  Female        Caucasian               8.0      1   \n",
       "35919     78100425    Male        Caucasian               1.0      0   \n",
       "13577     25522029  Female        Caucasian               3.0      1   \n",
       "27325     77264766    Male  AfricanAmerican               5.0      1   \n",
       "14883      1094508    Male        Caucasian               5.0      1   \n",
       "\n",
       "       label_value  \n",
       "48276            0  \n",
       "34642            0  \n",
       "16636            0  \n",
       "9327             0  \n",
       "3684             0  \n",
       "36502            1  \n",
       "35919            0  \n",
       "13577            0  \n",
       "27325            1  \n",
       "14883            1  "
      ]
     },
     "execution_count": 200,
     "metadata": {},
     "output_type": "execute_result"
    }
   ],
   "source": [
    "pred_test_df[['patient_nbr', 'gender', 'race', 'time_in_hospital', 'score', 'label_value']].head(10)"
   ]
  },
  {
   "cell_type": "markdown",
   "metadata": {},
   "source": [
    "## Model Evaluation Metrics "
   ]
  },
  {
   "cell_type": "markdown",
   "metadata": {},
   "source": [
    "**Question 11**: Now it is time to use the newly created binary labels in the 'pred_test_df' dataframe to evaluate the model with some common classification metrics. Please create a report summary of the performance of the model and be sure to give the ROC AUC, F1 score(weighted), class precision and recall scores. "
   ]
  },
  {
   "cell_type": "markdown",
   "metadata": {},
   "source": [
    "For the report please be sure to include the following three parts:\n",
    "- With a non-technical audience in mind, explain the precision-recall tradeoff in regard to how you have optimized your model.\n",
    "\n",
    "- What are some areas of improvement for future iterations?"
   ]
  },
  {
   "cell_type": "code",
   "execution_count": 201,
   "metadata": {},
   "outputs": [
    {
     "name": "stdout",
     "output_type": "stream",
     "text": [
      "F1: 0.719791103527788\n",
      "              precision    recall  f1-score   support\n",
      "\n",
      "           0       0.83      0.68      0.75      6735\n",
      "           1       0.60      0.77      0.67      4120\n",
      "\n",
      "    accuracy                           0.72     10855\n",
      "   macro avg       0.71      0.73      0.71     10855\n",
      "weighted avg       0.74      0.72      0.72     10855\n",
      "\n"
     ]
    }
   ],
   "source": [
    "# AUC, F1, precision and recall\n",
    "# Summary\n",
    "\n",
    "from sklearn.metrics import brier_score_loss, accuracy_score, f1_score, classification_report, roc_auc_score, roc_curve\n",
    "\n",
    "#F1\n",
    "f1 = f1_score(pred_test_df['label_value'], pred_test_df['score'], average='weighted')\n",
    "print(f'F1: {f1}')\n",
    "\n",
    "class_report = classification_report(pred_test_df['label_value'], pred_test_df['score'])\n",
    "print(class_report)\n"
   ]
  },
  {
   "cell_type": "code",
   "execution_count": 202,
   "metadata": {},
   "outputs": [
    {
     "data": {
      "image/png": "[encoded data removed]",
      "text/plain": [
       "<Figure size 432x288 with 1 Axes>"
      ]
     },
     "metadata": {
      "needs_background": "light"
     },
     "output_type": "display_data"
    }
   ],
   "source": [
    "roc = roc_curve(pred_test_df['label_value'], pred_test_df['score'])\n",
    "plt.plot(roc[0], roc[1])\n",
    "plt.show()"
   ]
  },
  {
   "cell_type": "code",
   "execution_count": 203,
   "metadata": {},
   "outputs": [
    {
     "name": "stdout",
     "output_type": "stream",
     "text": [
      "AUC: 0.7268138113463215\n"
     ]
    }
   ],
   "source": [
    "#AUC - area under the ROC curve\n",
    "auc = roc_auc_score(pred_test_df['label_value'], pred_test_df['score'])\n",
    "print(f'AUC: {auc}')"
   ]
  },
  {
   "cell_type": "markdown",
   "metadata": {},
   "source": [
    "**Question 11** <font color='red'><b>Student Response</b></font>:\n",
    "\n",
    "* **Precision-recall trade-off**: \n",
    "\n",
    "The more the model tries to eliminate false positives, (i.e. increase precision), the more the model will have to err on the side of false negatives, because it is forced to classify as \"False\" at the possibility that it might be False. Inevitably, this will mean that sometimes actual Positives will be classified as \"False\", which is the definition of False Negative. Thus, trying to minimize False Positives, increases the number of False Negatives.\n",
    "\n",
    "The same works in the opposite direction. The more the model tries to minimize False Negatives (i.e. increase recall), the more it is forced to classify as Positive those records that have the possibility of being Positive, even though they in fact are Negative. Thus, false positive rate increases as we try to minimize false negatives.\n",
    "\n",
    "In our case we have (weighted average) precision and recall of 0.74 and 0.72, correspondingly. They are both higher noticeably higher than 0.5, and there is no significant difference between them, which shows good trade-off balance. Although, of course, values are not too close to 1.0, which shows there's room for improvement.\n",
    "\n",
    "* **F1-Score**\n",
    "\n",
    "F1-score is the harmonic mean of precision and recall, thus capturing both precision and recall in a single value. It is better than using a simple average, because if one of two is small and the other large, F1-score will reflect it better than an average, which might still be pretty high. In our case the weighted F1-score average is 0.719.  \n",
    "\n",
    "* **ROC (Receiver Operating Characteristic) Curve and AUC**\n",
    "\n",
    "A good model (something that has actually learned something from the data), would make it possible to find internal parameters/threshold where False Positive rate can be minimized while keeping False Negative rate comparatively low. This will manifest itself in the ROC-curve shape, and, particularly the more it is different from y = x shape. This difference can be measured with AUC (Area Under the Curve), which in our case is 0.727. This number is not very close to 1.0, but still, it is observably larger than 0.5, so our model definitely learned something from the data.\n",
    "\n",
    "Refs: [F1-score](https://en.wikipedia.org/wiki/F1_score), [Receiver Operating Characteristic](https://en.wikipedia.org/wiki/Receiver_operating_characteristic)\n",
    "\n",
    "* **Potential Improvements**:\n",
    "  * Use smaller learning rate (we can see that validation loss somewhat bounces back and forth, possibly around local minima, smaller learning rate might help overcome this)\n",
    "  * Try other optimizers like Adam\n",
    "  * Use binary output in the network and optimize directly for AUC\n",
    "\n"
   ]
  },
  {
   "cell_type": "markdown",
   "metadata": {},
   "source": [
    "# 7. Evaluating Potential Model Biases with Aequitas Toolkit"
   ]
  },
  {
   "cell_type": "markdown",
   "metadata": {},
   "source": [
    "## Prepare Data For Aequitas Bias Toolkit "
   ]
  },
  {
   "cell_type": "markdown",
   "metadata": {},
   "source": [
    "Using the gender and race fields, we will prepare the data for the Aequitas Toolkit."
   ]
  },
  {
   "cell_type": "code",
   "execution_count": 204,
   "metadata": {},
   "outputs": [
    {
     "name": "stderr",
     "output_type": "stream",
     "text": [
      "/opt/conda/lib/python3.7/site-packages/aequitas/group.py:143: SettingWithCopyWarning: \n",
      "A value is trying to be set on a copy of a slice from a DataFrame.\n",
      "Try using .loc[row_indexer,col_indexer] = value instead\n",
      "\n",
      "See the caveats in the documentation: https://pandas.pydata.org/pandas-docs/stable/user_guide/indexing.html#returning-a-view-versus-a-copy\n",
      "  df['score'] = df['score'].astype(float)\n"
     ]
    },
    {
     "name": "stdout",
     "output_type": "stream",
     "text": [
      "model_id, score_thresholds 1 {'rank_abs': [5339]}\n"
     ]
    },
    {
     "name": "stderr",
     "output_type": "stream",
     "text": [
      "/opt/conda/lib/python3.7/site-packages/aequitas/group.py:30: FutureWarning: The pandas.np module is deprecated and will be removed from pandas in a future version. Import numpy directly instead\n",
      "  divide = lambda x, y: x / y if y != 0 else pd.np.nan\n"
     ]
    }
   ],
   "source": [
    "# Aequitas\n",
    "from aequitas.preprocessing import preprocess_input_df\n",
    "from aequitas.group import Group\n",
    "from aequitas.plotting import Plot\n",
    "from aequitas.bias import Bias\n",
    "from aequitas.fairness import Fairness\n",
    "\n",
    "ae_subset_df = pred_test_df[['race', 'gender', 'score', 'label_value']]\n",
    "ae_df, _ = preprocess_input_df(ae_subset_df)\n",
    "g = Group()\n",
    "xtab, _ = g.get_crosstabs(ae_df)\n",
    "absolute_metrics = g.list_absolute_metrics(xtab)\n",
    "clean_xtab = xtab.fillna(-1)\n",
    "aqp = Plot()\n",
    "b = Bias()\n"
   ]
  },
  {
   "cell_type": "markdown",
   "metadata": {},
   "source": [
    "## Reference Group Selection"
   ]
  },
  {
   "cell_type": "markdown",
   "metadata": {},
   "source": [
    "Below we have chosen the reference group for our analysis but feel free to select another one."
   ]
  },
  {
   "cell_type": "code",
   "execution_count": 205,
   "metadata": {},
   "outputs": [
    {
     "name": "stdout",
     "output_type": "stream",
     "text": [
      "get_disparity_predefined_group()\n"
     ]
    },
    {
     "name": "stderr",
     "output_type": "stream",
     "text": [
      "/opt/conda/lib/python3.7/site-packages/aequitas/bias.py:368: FutureWarning: The pandas.np module is deprecated and will be removed from pandas in a future version. Import numpy directly instead\n",
      "  df = df.replace(pd.np.inf, fill_divbyzero)\n",
      "/opt/conda/lib/python3.7/site-packages/aequitas/fairness.py:32: FutureWarning: The pandas.np module is deprecated and will be removed from pandas in a future version. Import numpy directly instead\n",
      "  self.fair_eval = lambda tau: lambda x: pd.np.nan if pd.np.isnan(x) else \\\n",
      "/opt/conda/lib/python3.7/site-packages/aequitas/fairness.py:45: FutureWarning: The pandas.np module is deprecated and will be removed from pandas in a future version. Import numpy directly instead\n",
      "  self.high_level_pair_eval = lambda col1, col2: lambda x: pd.np.nan if (pd.np.isnan(x[col1]) and pd.np.isnan(x[col2])) \\\n"
     ]
    }
   ],
   "source": [
    "# test reference group with Caucasian Male\n",
    "bdf = b.get_disparity_predefined_groups(clean_xtab, \n",
    "                    original_df=ae_df, \n",
    "                    ref_groups_dict={'race':'Caucasian', 'gender':'Male'\n",
    "                                     }, \n",
    "                    alpha=0.05, \n",
    "                    check_significance=False)\n",
    "\n",
    "\n",
    "f = Fairness()\n",
    "fdf = f.get_group_value_fairness(bdf)"
   ]
  },
  {
   "cell_type": "markdown",
   "metadata": {},
   "source": [
    "## Race and Gender Bias Analysis for Patient Selection"
   ]
  },
  {
   "cell_type": "markdown",
   "metadata": {},
   "source": [
    "**Question 12**: For the gender and race fields, please plot two metrics that are important for patient selection below and state whether there is a significant bias in your model across any of the groups along with justification for your statement."
   ]
  },
  {
   "cell_type": "code",
   "execution_count": 206,
   "metadata": {
    "scrolled": true
   },
   "outputs": [
    {
     "data": {
      "text/html": [
       "<div>\n",
       "<style scoped>\n",
       "    .dataframe tbody tr th:only-of-type {\n",
       "        vertical-align: middle;\n",
       "    }\n",
       "\n",
       "    .dataframe tbody tr th {\n",
       "        vertical-align: top;\n",
       "    }\n",
       "\n",
       "    .dataframe thead th {\n",
       "        text-align: right;\n",
       "    }\n",
       "</style>\n",
       "<table border=\"1\" class=\"dataframe\">\n",
       "  <thead>\n",
       "    <tr style=\"text-align: right;\">\n",
       "      <th></th>\n",
       "      <th>model_id</th>\n",
       "      <th>score_threshold</th>\n",
       "      <th>k</th>\n",
       "      <th>attribute_name</th>\n",
       "      <th>attribute_value</th>\n",
       "      <th>pp</th>\n",
       "      <th>pn</th>\n",
       "      <th>fp</th>\n",
       "      <th>fn</th>\n",
       "      <th>tn</th>\n",
       "      <th>tp</th>\n",
       "      <th>group_label_pos</th>\n",
       "      <th>group_label_neg</th>\n",
       "      <th>group_size</th>\n",
       "      <th>total_entities</th>\n",
       "    </tr>\n",
       "  </thead>\n",
       "  <tbody>\n",
       "    <tr>\n",
       "      <th>0</th>\n",
       "      <td>1</td>\n",
       "      <td>binary 0/1</td>\n",
       "      <td>5339</td>\n",
       "      <td>race</td>\n",
       "      <td>?</td>\n",
       "      <td>143</td>\n",
       "      <td>141</td>\n",
       "      <td>56</td>\n",
       "      <td>15</td>\n",
       "      <td>126</td>\n",
       "      <td>87</td>\n",
       "      <td>102</td>\n",
       "      <td>182</td>\n",
       "      <td>284</td>\n",
       "      <td>10855</td>\n",
       "    </tr>\n",
       "    <tr>\n",
       "      <th>1</th>\n",
       "      <td>1</td>\n",
       "      <td>binary 0/1</td>\n",
       "      <td>5339</td>\n",
       "      <td>race</td>\n",
       "      <td>AfricanAmerican</td>\n",
       "      <td>987</td>\n",
       "      <td>976</td>\n",
       "      <td>394</td>\n",
       "      <td>164</td>\n",
       "      <td>812</td>\n",
       "      <td>593</td>\n",
       "      <td>757</td>\n",
       "      <td>1206</td>\n",
       "      <td>1963</td>\n",
       "      <td>10855</td>\n",
       "    </tr>\n",
       "    <tr>\n",
       "      <th>2</th>\n",
       "      <td>1</td>\n",
       "      <td>binary 0/1</td>\n",
       "      <td>5339</td>\n",
       "      <td>race</td>\n",
       "      <td>Asian</td>\n",
       "      <td>26</td>\n",
       "      <td>37</td>\n",
       "      <td>10</td>\n",
       "      <td>5</td>\n",
       "      <td>32</td>\n",
       "      <td>16</td>\n",
       "      <td>21</td>\n",
       "      <td>42</td>\n",
       "      <td>63</td>\n",
       "      <td>10855</td>\n",
       "    </tr>\n",
       "    <tr>\n",
       "      <th>3</th>\n",
       "      <td>1</td>\n",
       "      <td>binary 0/1</td>\n",
       "      <td>5339</td>\n",
       "      <td>race</td>\n",
       "      <td>Caucasian</td>\n",
       "      <td>3992</td>\n",
       "      <td>4128</td>\n",
       "      <td>1618</td>\n",
       "      <td>717</td>\n",
       "      <td>3411</td>\n",
       "      <td>2374</td>\n",
       "      <td>3091</td>\n",
       "      <td>5029</td>\n",
       "      <td>8120</td>\n",
       "      <td>10855</td>\n",
       "    </tr>\n",
       "    <tr>\n",
       "      <th>4</th>\n",
       "      <td>1</td>\n",
       "      <td>binary 0/1</td>\n",
       "      <td>5339</td>\n",
       "      <td>race</td>\n",
       "      <td>Hispanic</td>\n",
       "      <td>86</td>\n",
       "      <td>154</td>\n",
       "      <td>32</td>\n",
       "      <td>26</td>\n",
       "      <td>128</td>\n",
       "      <td>54</td>\n",
       "      <td>80</td>\n",
       "      <td>160</td>\n",
       "      <td>240</td>\n",
       "      <td>10855</td>\n",
       "    </tr>\n",
       "    <tr>\n",
       "      <th>5</th>\n",
       "      <td>1</td>\n",
       "      <td>binary 0/1</td>\n",
       "      <td>5339</td>\n",
       "      <td>race</td>\n",
       "      <td>Other</td>\n",
       "      <td>105</td>\n",
       "      <td>80</td>\n",
       "      <td>43</td>\n",
       "      <td>7</td>\n",
       "      <td>73</td>\n",
       "      <td>62</td>\n",
       "      <td>69</td>\n",
       "      <td>116</td>\n",
       "      <td>185</td>\n",
       "      <td>10855</td>\n",
       "    </tr>\n",
       "    <tr>\n",
       "      <th>6</th>\n",
       "      <td>1</td>\n",
       "      <td>binary 0/1</td>\n",
       "      <td>5339</td>\n",
       "      <td>gender</td>\n",
       "      <td>Female</td>\n",
       "      <td>2815</td>\n",
       "      <td>2964</td>\n",
       "      <td>1105</td>\n",
       "      <td>534</td>\n",
       "      <td>2430</td>\n",
       "      <td>1710</td>\n",
       "      <td>2244</td>\n",
       "      <td>3535</td>\n",
       "      <td>5779</td>\n",
       "      <td>10855</td>\n",
       "    </tr>\n",
       "    <tr>\n",
       "      <th>7</th>\n",
       "      <td>1</td>\n",
       "      <td>binary 0/1</td>\n",
       "      <td>5339</td>\n",
       "      <td>gender</td>\n",
       "      <td>Male</td>\n",
       "      <td>2523</td>\n",
       "      <td>2552</td>\n",
       "      <td>1048</td>\n",
       "      <td>400</td>\n",
       "      <td>2152</td>\n",
       "      <td>1475</td>\n",
       "      <td>1875</td>\n",
       "      <td>3200</td>\n",
       "      <td>5075</td>\n",
       "      <td>10855</td>\n",
       "    </tr>\n",
       "    <tr>\n",
       "      <th>8</th>\n",
       "      <td>1</td>\n",
       "      <td>binary 0/1</td>\n",
       "      <td>5339</td>\n",
       "      <td>gender</td>\n",
       "      <td>Unknown/Invalid</td>\n",
       "      <td>1</td>\n",
       "      <td>0</td>\n",
       "      <td>0</td>\n",
       "      <td>0</td>\n",
       "      <td>0</td>\n",
       "      <td>1</td>\n",
       "      <td>1</td>\n",
       "      <td>0</td>\n",
       "      <td>1</td>\n",
       "      <td>10855</td>\n",
       "    </tr>\n",
       "  </tbody>\n",
       "</table>\n",
       "</div>"
      ],
      "text/plain": [
       "   model_id score_threshold     k attribute_name  attribute_value    pp    pn  \\\n",
       "0         1      binary 0/1  5339           race                ?   143   141   \n",
       "1         1      binary 0/1  5339           race  AfricanAmerican   987   976   \n",
       "2         1      binary 0/1  5339           race            Asian    26    37   \n",
       "3         1      binary 0/1  5339           race        Caucasian  3992  4128   \n",
       "4         1      binary 0/1  5339           race         Hispanic    86   154   \n",
       "5         1      binary 0/1  5339           race            Other   105    80   \n",
       "6         1      binary 0/1  5339         gender           Female  2815  2964   \n",
       "7         1      binary 0/1  5339         gender             Male  2523  2552   \n",
       "8         1      binary 0/1  5339         gender  Unknown/Invalid     1     0   \n",
       "\n",
       "     fp   fn    tn    tp  group_label_pos  group_label_neg  group_size  \\\n",
       "0    56   15   126    87              102              182         284   \n",
       "1   394  164   812   593              757             1206        1963   \n",
       "2    10    5    32    16               21               42          63   \n",
       "3  1618  717  3411  2374             3091             5029        8120   \n",
       "4    32   26   128    54               80              160         240   \n",
       "5    43    7    73    62               69              116         185   \n",
       "6  1105  534  2430  1710             2244             3535        5779   \n",
       "7  1048  400  2152  1475             1875             3200        5075   \n",
       "8     0    0     0     1                1                0           1   \n",
       "\n",
       "   total_entities  \n",
       "0           10855  \n",
       "1           10855  \n",
       "2           10855  \n",
       "3           10855  \n",
       "4           10855  \n",
       "5           10855  \n",
       "6           10855  \n",
       "7           10855  \n",
       "8           10855  "
      ]
     },
     "execution_count": 206,
     "metadata": {},
     "output_type": "execute_result"
    }
   ],
   "source": [
    "# Plot two metrics\n",
    "# Is there significant bias in your model for either race or gender?\n",
    "\n",
    "absolute_metrics = g.list_absolute_metrics(xtab)\n",
    "xtab[[col for col in xtab.columns if col not in absolute_metrics]]"
   ]
  },
  {
   "cell_type": "code",
   "execution_count": 207,
   "metadata": {
    "scrolled": true
   },
   "outputs": [
    {
     "data": {
      "text/html": [
       "<div>\n",
       "<style scoped>\n",
       "    .dataframe tbody tr th:only-of-type {\n",
       "        vertical-align: middle;\n",
       "    }\n",
       "\n",
       "    .dataframe tbody tr th {\n",
       "        vertical-align: top;\n",
       "    }\n",
       "\n",
       "    .dataframe thead th {\n",
       "        text-align: right;\n",
       "    }\n",
       "</style>\n",
       "<table border=\"1\" class=\"dataframe\">\n",
       "  <thead>\n",
       "    <tr style=\"text-align: right;\">\n",
       "      <th></th>\n",
       "      <th>attribute_name</th>\n",
       "      <th>attribute_value</th>\n",
       "      <th>tpr</th>\n",
       "      <th>tnr</th>\n",
       "      <th>for</th>\n",
       "      <th>fdr</th>\n",
       "      <th>fpr</th>\n",
       "      <th>fnr</th>\n",
       "      <th>npv</th>\n",
       "      <th>precision</th>\n",
       "      <th>ppr</th>\n",
       "      <th>pprev</th>\n",
       "      <th>prev</th>\n",
       "    </tr>\n",
       "  </thead>\n",
       "  <tbody>\n",
       "    <tr>\n",
       "      <th>0</th>\n",
       "      <td>race</td>\n",
       "      <td>?</td>\n",
       "      <td>0.85</td>\n",
       "      <td>0.69</td>\n",
       "      <td>0.11</td>\n",
       "      <td>0.39</td>\n",
       "      <td>0.31</td>\n",
       "      <td>0.15</td>\n",
       "      <td>0.89</td>\n",
       "      <td>0.61</td>\n",
       "      <td>0.03</td>\n",
       "      <td>0.50</td>\n",
       "      <td>0.36</td>\n",
       "    </tr>\n",
       "    <tr>\n",
       "      <th>1</th>\n",
       "      <td>race</td>\n",
       "      <td>AfricanAmerican</td>\n",
       "      <td>0.78</td>\n",
       "      <td>0.67</td>\n",
       "      <td>0.17</td>\n",
       "      <td>0.40</td>\n",
       "      <td>0.33</td>\n",
       "      <td>0.22</td>\n",
       "      <td>0.83</td>\n",
       "      <td>0.60</td>\n",
       "      <td>0.18</td>\n",
       "      <td>0.50</td>\n",
       "      <td>0.39</td>\n",
       "    </tr>\n",
       "    <tr>\n",
       "      <th>2</th>\n",
       "      <td>race</td>\n",
       "      <td>Asian</td>\n",
       "      <td>0.76</td>\n",
       "      <td>0.76</td>\n",
       "      <td>0.14</td>\n",
       "      <td>0.38</td>\n",
       "      <td>0.24</td>\n",
       "      <td>0.24</td>\n",
       "      <td>0.86</td>\n",
       "      <td>0.62</td>\n",
       "      <td>0.00</td>\n",
       "      <td>0.41</td>\n",
       "      <td>0.33</td>\n",
       "    </tr>\n",
       "    <tr>\n",
       "      <th>3</th>\n",
       "      <td>race</td>\n",
       "      <td>Caucasian</td>\n",
       "      <td>0.77</td>\n",
       "      <td>0.68</td>\n",
       "      <td>0.17</td>\n",
       "      <td>0.41</td>\n",
       "      <td>0.32</td>\n",
       "      <td>0.23</td>\n",
       "      <td>0.83</td>\n",
       "      <td>0.59</td>\n",
       "      <td>0.75</td>\n",
       "      <td>0.49</td>\n",
       "      <td>0.38</td>\n",
       "    </tr>\n",
       "    <tr>\n",
       "      <th>4</th>\n",
       "      <td>race</td>\n",
       "      <td>Hispanic</td>\n",
       "      <td>0.68</td>\n",
       "      <td>0.80</td>\n",
       "      <td>0.17</td>\n",
       "      <td>0.37</td>\n",
       "      <td>0.20</td>\n",
       "      <td>0.32</td>\n",
       "      <td>0.83</td>\n",
       "      <td>0.63</td>\n",
       "      <td>0.02</td>\n",
       "      <td>0.36</td>\n",
       "      <td>0.33</td>\n",
       "    </tr>\n",
       "    <tr>\n",
       "      <th>5</th>\n",
       "      <td>race</td>\n",
       "      <td>Other</td>\n",
       "      <td>0.90</td>\n",
       "      <td>0.63</td>\n",
       "      <td>0.09</td>\n",
       "      <td>0.41</td>\n",
       "      <td>0.37</td>\n",
       "      <td>0.10</td>\n",
       "      <td>0.91</td>\n",
       "      <td>0.59</td>\n",
       "      <td>0.02</td>\n",
       "      <td>0.57</td>\n",
       "      <td>0.37</td>\n",
       "    </tr>\n",
       "    <tr>\n",
       "      <th>6</th>\n",
       "      <td>gender</td>\n",
       "      <td>Female</td>\n",
       "      <td>0.76</td>\n",
       "      <td>0.69</td>\n",
       "      <td>0.18</td>\n",
       "      <td>0.39</td>\n",
       "      <td>0.31</td>\n",
       "      <td>0.24</td>\n",
       "      <td>0.82</td>\n",
       "      <td>0.61</td>\n",
       "      <td>0.53</td>\n",
       "      <td>0.49</td>\n",
       "      <td>0.39</td>\n",
       "    </tr>\n",
       "    <tr>\n",
       "      <th>7</th>\n",
       "      <td>gender</td>\n",
       "      <td>Male</td>\n",
       "      <td>0.79</td>\n",
       "      <td>0.67</td>\n",
       "      <td>0.16</td>\n",
       "      <td>0.42</td>\n",
       "      <td>0.33</td>\n",
       "      <td>0.21</td>\n",
       "      <td>0.84</td>\n",
       "      <td>0.58</td>\n",
       "      <td>0.47</td>\n",
       "      <td>0.50</td>\n",
       "      <td>0.37</td>\n",
       "    </tr>\n",
       "    <tr>\n",
       "      <th>8</th>\n",
       "      <td>gender</td>\n",
       "      <td>Unknown/Invalid</td>\n",
       "      <td>1.00</td>\n",
       "      <td>NaN</td>\n",
       "      <td>NaN</td>\n",
       "      <td>0.00</td>\n",
       "      <td>NaN</td>\n",
       "      <td>0.00</td>\n",
       "      <td>NaN</td>\n",
       "      <td>1.00</td>\n",
       "      <td>0.00</td>\n",
       "      <td>1.00</td>\n",
       "      <td>1.00</td>\n",
       "    </tr>\n",
       "  </tbody>\n",
       "</table>\n",
       "</div>"
      ],
      "text/plain": [
       "  attribute_name  attribute_value   tpr   tnr   for   fdr   fpr   fnr   npv  \\\n",
       "0           race                ?  0.85  0.69  0.11  0.39  0.31  0.15  0.89   \n",
       "1           race  AfricanAmerican  0.78  0.67  0.17  0.40  0.33  0.22  0.83   \n",
       "2           race            Asian  0.76  0.76  0.14  0.38  0.24  0.24  0.86   \n",
       "3           race        Caucasian  0.77  0.68  0.17  0.41  0.32  0.23  0.83   \n",
       "4           race         Hispanic  0.68  0.80  0.17  0.37  0.20  0.32  0.83   \n",
       "5           race            Other  0.90  0.63  0.09  0.41  0.37  0.10  0.91   \n",
       "6         gender           Female  0.76  0.69  0.18  0.39  0.31  0.24  0.82   \n",
       "7         gender             Male  0.79  0.67  0.16  0.42  0.33  0.21  0.84   \n",
       "8         gender  Unknown/Invalid  1.00   NaN   NaN  0.00   NaN  0.00   NaN   \n",
       "\n",
       "   precision   ppr  pprev  prev  \n",
       "0       0.61  0.03   0.50  0.36  \n",
       "1       0.60  0.18   0.50  0.39  \n",
       "2       0.62  0.00   0.41  0.33  \n",
       "3       0.59  0.75   0.49  0.38  \n",
       "4       0.63  0.02   0.36  0.33  \n",
       "5       0.59  0.02   0.57  0.37  \n",
       "6       0.61  0.53   0.49  0.39  \n",
       "7       0.58  0.47   0.50  0.37  \n",
       "8       1.00  0.00   1.00  1.00  "
      ]
     },
     "execution_count": 207,
     "metadata": {},
     "output_type": "execute_result"
    }
   ],
   "source": [
    "xtab[['attribute_name', 'attribute_value'] + absolute_metrics].round(2)"
   ]
  },
  {
   "cell_type": "code",
   "execution_count": 208,
   "metadata": {
    "scrolled": true
   },
   "outputs": [
    {
     "data": {
      "image/png": "[encoded data removed]",
      "text/plain": [
       "<Figure size 1800x432 with 5 Axes>"
      ]
     },
     "metadata": {
      "needs_background": "light"
     },
     "output_type": "display_data"
    }
   ],
   "source": [
    "p = aqp.plot_group_metric_all(xtab, metrics=['tpr', 'fpr', 'ppr', 'pprev', 'fnr'], ncols=5)"
   ]
  },
  {
   "cell_type": "markdown",
   "metadata": {},
   "source": [
    "**Question 12** <font color='red'><b>Student Response</b></font>:\n",
    "\n",
    "From the visualizations above, we can see, the model shows no noticeable bias in gender (between male and female groups), and almost no bias in race, EXCEPT for PPR (Positive Predictive Rate, or precision).\n",
    "\n",
    "PPR looks very much higher for Caucasian group (much higher precision), which also means much lower portion of False Positives among positive predictions. This, in turn, means that among the patients selected by our model for this drug program, the selected Caucasian people have a much higher chance of being actually fit (the right choice) for the program as compared to other groups, especially Hispanics or Asians, which will have a higher probability of NOT being a good fit for the program. This can be a useful piece of info to know in advance when working with this model."
   ]
  },
  {
   "cell_type": "markdown",
   "metadata": {},
   "source": [
    "## Fairness Analysis Example - Relative to a Reference Group "
   ]
  },
  {
   "cell_type": "markdown",
   "metadata": {},
   "source": [
    "**Question 13**: Earlier we defined our reference group and then calculated disparity metrics relative to this grouping. Please provide a visualization of the fairness evaluation for this reference group and analyze whether there is disparity."
   ]
  },
  {
   "cell_type": "code",
   "execution_count": 209,
   "metadata": {
    "scrolled": true
   },
   "outputs": [
    {
     "data": {
      "image/png": "[encoded data removed]",
      "text/plain": [
       "<Figure size 360x288 with 2 Axes>"
      ]
     },
     "metadata": {
      "needs_background": "light"
     },
     "output_type": "display_data"
    }
   ],
   "source": [
    "# Reference group fairness plot\n",
    "fpr_disparity = aqp.plot_disparity(bdf, group_metric='fpr_disparity', attribute_name='race')"
   ]
  },
  {
   "cell_type": "markdown",
   "metadata": {},
   "source": [
    "**Question 13** <font color='red'><b>Student Response</b></font>:\n",
    "\n",
    "In terms of False Positive Rate, we can see that Hispanics and Asians that do not fit for the program, have somewhat smaller probability of being selected for it, as compared to Caucasian males (38% smaller for Hispanic, 26% smaller for Asian). \n",
    "\n",
    "It has to be mentioned though, that there is no extreme FPR disparity in respect to race.\n"
   ]
  },
  {
   "cell_type": "markdown",
   "metadata": {},
   "source": [
    "## Archive project for download"
   ]
  },
  {
   "cell_type": "code",
   "execution_count": 3,
   "metadata": {},
   "outputs": [
    {
     "name": "stdout",
     "output_type": "stream",
     "text": [
      "  adding: home/workspace/starter_code/ (stored 0%)\n",
      "  adding: home/workspace/starter_code/utils.py (deflated 65%)\n",
      "  adding: home/workspace/starter_code/__init__.py (stored 0%)\n",
      "  adding: home/workspace/starter_code/student_project_submission.ipynb (deflated 76%)\n",
      "  adding: home/workspace/starter_code/medication_lookup_tables/ (stored 0%)\n",
      "  adding: home/workspace/starter_code/medication_lookup_tables/final_ndc_lookup_table (deflated 90%)\n",
      "  adding: home/workspace/starter_code/student_utils.py (deflated 64%)\n",
      "  adding: home/workspace/starter_code/.ipynb_checkpoints/ (stored 0%)\n",
      "  adding: home/workspace/starter_code/.ipynb_checkpoints/student_project-checkpoint.ipynb (deflated 76%)\n",
      "  adding: home/workspace/starter_code/.ipynb_checkpoints/student_project_submission-checkpoint.ipynb (deflated 76%)\n",
      "  adding: home/workspace/starter_code/data/ (stored 0%)\n",
      "  adding: home/workspace/starter_code/data/final_project_dataset.csv (deflated 81%)\n",
      "  adding: home/workspace/starter_code/data/.ipynb_checkpoints/ (stored 0%)\n",
      "  adding: home/workspace/starter_code/student_project.ipynb (deflated 76%)\n",
      "  adding: home/workspace/starter_code/diabetes_vocab/ (stored 0%)\n"
     ]
    }
   ],
   "source": [
    "!zip -r starter_code.zip /home/workspace/starter_code/student_project_submission.ipynb /home/workspace/starter_code/student_utils.py"
   ]
  },
  {
   "cell_type": "code",
   "execution_count": null,
   "metadata": {},
   "outputs": [],
   "source": []
  }
 ],
 "metadata": {
  "kernelspec": {
   "display_name": "Python 3",
   "language": "python",
   "name": "python3"
  },
  "language_info": {
   "codemirror_mode": {
    "name": "ipython",
    "version": 3
   },
   "file_extension": ".py",
   "mimetype": "text/x-python",
   "name": "python",
   "nbconvert_exporter": "python",
   "pygments_lexer": "ipython3",
   "version": "3.7.6"
  }
 },
 "nbformat": 4,
 "nbformat_minor": 2
}
